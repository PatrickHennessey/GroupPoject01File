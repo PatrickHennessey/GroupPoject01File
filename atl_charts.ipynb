{
 "cells": [
  {
   "cell_type": "code",
   "execution_count": 1,
   "metadata": {},
   "outputs": [],
   "source": [
    "import os\n",
    "import json\n",
    "import csv\n",
    "import glob\n",
    "import datetime\n",
    "import requests\n",
    "import numpy as np\n",
    "import pandas as pd\n",
    "from os import listdir\n",
    "import matplotlib.pyplot as plt"
   ]
  },
  {
   "cell_type": "code",
   "execution_count": 2,
   "metadata": {},
   "outputs": [
    {
     "data": {
      "text/html": [
       "<div>\n",
       "<style scoped>\n",
       "    .dataframe tbody tr th:only-of-type {\n",
       "        vertical-align: middle;\n",
       "    }\n",
       "\n",
       "    .dataframe tbody tr th {\n",
       "        vertical-align: top;\n",
       "    }\n",
       "\n",
       "    .dataframe thead th {\n",
       "        text-align: right;\n",
       "    }\n",
       "</style>\n",
       "<table border=\"1\" class=\"dataframe\">\n",
       "  <thead>\n",
       "    <tr style=\"text-align: right;\">\n",
       "      <th></th>\n",
       "      <th>Crime</th>\n",
       "      <th>UCR Code</th>\n",
       "      <th>Month</th>\n",
       "      <th>Day</th>\n",
       "      <th>Year</th>\n",
       "      <th>Latitude</th>\n",
       "      <th>Longitude</th>\n",
       "    </tr>\n",
       "  </thead>\n",
       "  <tbody>\n",
       "    <tr>\n",
       "      <th>0</th>\n",
       "      <td>Larceny-Non Vehicle</td>\n",
       "      <td>630</td>\n",
       "      <td>1</td>\n",
       "      <td>1</td>\n",
       "      <td>2009</td>\n",
       "      <td>33.68845</td>\n",
       "      <td>-84.49328</td>\n",
       "    </tr>\n",
       "    <tr>\n",
       "      <th>1</th>\n",
       "      <td>Larceny-Non Vehicle</td>\n",
       "      <td>630</td>\n",
       "      <td>1</td>\n",
       "      <td>1</td>\n",
       "      <td>2009</td>\n",
       "      <td>33.75320</td>\n",
       "      <td>-84.39201</td>\n",
       "    </tr>\n",
       "    <tr>\n",
       "      <th>2</th>\n",
       "      <td>Larceny-Non Vehicle</td>\n",
       "      <td>630</td>\n",
       "      <td>1</td>\n",
       "      <td>1</td>\n",
       "      <td>2009</td>\n",
       "      <td>33.75735</td>\n",
       "      <td>-84.50282</td>\n",
       "    </tr>\n",
       "    <tr>\n",
       "      <th>3</th>\n",
       "      <td>Larceny-Non Vehicle</td>\n",
       "      <td>630</td>\n",
       "      <td>1</td>\n",
       "      <td>1</td>\n",
       "      <td>2009</td>\n",
       "      <td>33.84676</td>\n",
       "      <td>-84.36212</td>\n",
       "    </tr>\n",
       "    <tr>\n",
       "      <th>4</th>\n",
       "      <td>Larceny-Non Vehicle</td>\n",
       "      <td>630</td>\n",
       "      <td>1</td>\n",
       "      <td>1</td>\n",
       "      <td>2009</td>\n",
       "      <td>33.68677</td>\n",
       "      <td>-84.49773</td>\n",
       "    </tr>\n",
       "  </tbody>\n",
       "</table>\n",
       "</div>"
      ],
      "text/plain": [
       "                 Crime  UCR Code  Month  Day  Year  Latitude  Longitude\n",
       "0  Larceny-Non Vehicle       630      1    1  2009  33.68845  -84.49328\n",
       "1  Larceny-Non Vehicle       630      1    1  2009  33.75320  -84.39201\n",
       "2  Larceny-Non Vehicle       630      1    1  2009  33.75735  -84.50282\n",
       "3  Larceny-Non Vehicle       630      1    1  2009  33.84676  -84.36212\n",
       "4  Larceny-Non Vehicle       630      1    1  2009  33.68677  -84.49773"
      ]
     },
     "execution_count": 2,
     "metadata": {},
     "output_type": "execute_result"
    }
   ],
   "source": [
    "atl_df = pd.read_csv(\"atl.csv\")\n",
    "\n",
    "atl_df.head()"
   ]
  },
  {
   "cell_type": "code",
   "execution_count": 3,
   "metadata": {},
   "outputs": [
    {
     "data": {
      "text/plain": [
       "Larceny-From Vehicle    101948\n",
       "Larceny-Non Vehicle      79631\n",
       "Burglary-Residence       48927\n",
       "Auto Theft               46078\n",
       "Agg Assault              24374\n",
       "Robbery-Pedestrian       16927\n",
       "Burglary-Nonres          10697\n",
       "Robbery-Commercial        2263\n",
       "Robbery-Residence         2194\n",
       "Homicide                   947\n",
       "Manslaughter                17\n",
       "Name: Crime, dtype: int64"
      ]
     },
     "execution_count": 3,
     "metadata": {},
     "output_type": "execute_result"
    }
   ],
   "source": [
    "atl_backup_df = atl_df\n",
    "atl_df.Crime.value_counts()"
   ]
  },
  {
   "cell_type": "code",
   "execution_count": 4,
   "metadata": {},
   "outputs": [
    {
     "data": {
      "text/plain": [
       "Theft                 181579\n",
       "Burglary               59624\n",
       "Grand Theft Auto       46078\n",
       "Aggrivated Assault     24374\n",
       "Robbery                21384\n",
       "Homicide                 947\n",
       "Manslaughter              17\n",
       "Name: Crime, dtype: int64"
      ]
     },
     "execution_count": 4,
     "metadata": {},
     "output_type": "execute_result"
    }
   ],
   "source": [
    "atl_combined_crime = atl_df.replace({\n",
    "    \"Larceny-From Vehicle\" : \"Theft\",\n",
    "    \"Larceny-Non Vehicle\" : \"Theft\",\n",
    "    \"Burglary-Residence\": \"Burglary\",\n",
    "    \"Burglary-Nonres\": \"Burglary\",\n",
    "    \"Robbery-Pedestrian\" : \"Robbery\",\n",
    "    \"Robbery-Commercial\" : \"Robbery\",\n",
    "    \"Robbery-Residence\" : \"Robbery\",\n",
    "    \"Agg Assault\" : \"Aggrivated Assault\",\n",
    "    \"Auto Theft\" : \"Grand Theft Auto\"})\n",
    "atl_combined_crime.Crime.value_counts()\n",
    "atl_df = atl_combined_crime\n",
    "atl_df.Crime.value_counts()"
   ]
  },
  {
   "cell_type": "code",
   "execution_count": 5,
   "metadata": {},
   "outputs": [
    {
     "data": {
      "text/html": [
       "<style  type=\"text/css\" >\n",
       "</style><table id=\"T_f47c7042_d3ef_11e9_b53a_787b8aba2d9a\" ><thead>    <tr>        <th class=\"blank level0\" ></th>        <th class=\"col_heading level0 col0\" >Theft</th>        <th class=\"col_heading level0 col1\" >Burglary</th>        <th class=\"col_heading level0 col2\" >Grand Theft Auto</th>        <th class=\"col_heading level0 col3\" >Robbery</th>        <th class=\"col_heading level0 col4\" >Aggrivated Assault</th>        <th class=\"col_heading level0 col5\" >Homicide</th>        <th class=\"col_heading level0 col6\" >Manslaughter</th>    </tr>    <tr>        <th class=\"index_name level0\" >Year</th>        <th class=\"blank\" ></th>        <th class=\"blank\" ></th>        <th class=\"blank\" ></th>        <th class=\"blank\" ></th>        <th class=\"blank\" ></th>        <th class=\"blank\" ></th>        <th class=\"blank\" ></th>    </tr></thead><tbody>\n",
       "                <tr>\n",
       "                        <th id=\"T_f47c7042_d3ef_11e9_b53a_787b8aba2d9alevel0_row0\" class=\"row_heading level0 row0\" >2009</th>\n",
       "                        <td id=\"T_f47c7042_d3ef_11e9_b53a_787b8aba2d9arow0_col0\" class=\"data row0 col0\" >19,288</td>\n",
       "                        <td id=\"T_f47c7042_d3ef_11e9_b53a_787b8aba2d9arow0_col1\" class=\"data row0 col1\" >9,083</td>\n",
       "                        <td id=\"T_f47c7042_d3ef_11e9_b53a_787b8aba2d9arow0_col2\" class=\"data row0 col2\" >5,647</td>\n",
       "                        <td id=\"T_f47c7042_d3ef_11e9_b53a_787b8aba2d9arow0_col3\" class=\"data row0 col3\" >2,683</td>\n",
       "                        <td id=\"T_f47c7042_d3ef_11e9_b53a_787b8aba2d9arow0_col4\" class=\"data row0 col4\" >2,616</td>\n",
       "                        <td id=\"T_f47c7042_d3ef_11e9_b53a_787b8aba2d9arow0_col5\" class=\"data row0 col5\" >78</td>\n",
       "                        <td id=\"T_f47c7042_d3ef_11e9_b53a_787b8aba2d9arow0_col6\" class=\"data row0 col6\" >1.0</td>\n",
       "            </tr>\n",
       "            <tr>\n",
       "                        <th id=\"T_f47c7042_d3ef_11e9_b53a_787b8aba2d9alevel0_row1\" class=\"row_heading level0 row1\" >2010</th>\n",
       "                        <td id=\"T_f47c7042_d3ef_11e9_b53a_787b8aba2d9arow1_col0\" class=\"data row1 col0\" >17,674</td>\n",
       "                        <td id=\"T_f47c7042_d3ef_11e9_b53a_787b8aba2d9arow1_col1\" class=\"data row1 col1\" >7,994</td>\n",
       "                        <td id=\"T_f47c7042_d3ef_11e9_b53a_787b8aba2d9arow1_col2\" class=\"data row1 col2\" >4,975</td>\n",
       "                        <td id=\"T_f47c7042_d3ef_11e9_b53a_787b8aba2d9arow1_col3\" class=\"data row1 col3\" >2,158</td>\n",
       "                        <td id=\"T_f47c7042_d3ef_11e9_b53a_787b8aba2d9arow1_col4\" class=\"data row1 col4\" >2,610</td>\n",
       "                        <td id=\"T_f47c7042_d3ef_11e9_b53a_787b8aba2d9arow1_col5\" class=\"data row1 col5\" >89</td>\n",
       "                        <td id=\"T_f47c7042_d3ef_11e9_b53a_787b8aba2d9arow1_col6\" class=\"data row1 col6\" >2.0</td>\n",
       "            </tr>\n",
       "            <tr>\n",
       "                        <th id=\"T_f47c7042_d3ef_11e9_b53a_787b8aba2d9alevel0_row2\" class=\"row_heading level0 row2\" >2011</th>\n",
       "                        <td id=\"T_f47c7042_d3ef_11e9_b53a_787b8aba2d9arow2_col0\" class=\"data row2 col0\" >17,323</td>\n",
       "                        <td id=\"T_f47c7042_d3ef_11e9_b53a_787b8aba2d9arow2_col1\" class=\"data row2 col1\" >7,396</td>\n",
       "                        <td id=\"T_f47c7042_d3ef_11e9_b53a_787b8aba2d9arow2_col2\" class=\"data row2 col2\" >5,219</td>\n",
       "                        <td id=\"T_f47c7042_d3ef_11e9_b53a_787b8aba2d9arow2_col3\" class=\"data row2 col3\" >2,313</td>\n",
       "                        <td id=\"T_f47c7042_d3ef_11e9_b53a_787b8aba2d9arow2_col4\" class=\"data row2 col4\" >2,536</td>\n",
       "                        <td id=\"T_f47c7042_d3ef_11e9_b53a_787b8aba2d9arow2_col5\" class=\"data row2 col5\" >84</td>\n",
       "                        <td id=\"T_f47c7042_d3ef_11e9_b53a_787b8aba2d9arow2_col6\" class=\"data row2 col6\" >4.0</td>\n",
       "            </tr>\n",
       "            <tr>\n",
       "                        <th id=\"T_f47c7042_d3ef_11e9_b53a_787b8aba2d9alevel0_row3\" class=\"row_heading level0 row3\" >2012</th>\n",
       "                        <td id=\"T_f47c7042_d3ef_11e9_b53a_787b8aba2d9arow3_col0\" class=\"data row3 col0\" >17,286</td>\n",
       "                        <td id=\"T_f47c7042_d3ef_11e9_b53a_787b8aba2d9arow3_col1\" class=\"data row3 col1\" >6,157</td>\n",
       "                        <td id=\"T_f47c7042_d3ef_11e9_b53a_787b8aba2d9arow3_col2\" class=\"data row3 col2\" >5,098</td>\n",
       "                        <td id=\"T_f47c7042_d3ef_11e9_b53a_787b8aba2d9arow3_col3\" class=\"data row3 col3\" >2,262</td>\n",
       "                        <td id=\"T_f47c7042_d3ef_11e9_b53a_787b8aba2d9arow3_col4\" class=\"data row3 col4\" >2,520</td>\n",
       "                        <td id=\"T_f47c7042_d3ef_11e9_b53a_787b8aba2d9arow3_col5\" class=\"data row3 col5\" >82</td>\n",
       "                        <td id=\"T_f47c7042_d3ef_11e9_b53a_787b8aba2d9arow3_col6\" class=\"data row3 col6\" >3.0</td>\n",
       "            </tr>\n",
       "            <tr>\n",
       "                        <th id=\"T_f47c7042_d3ef_11e9_b53a_787b8aba2d9alevel0_row4\" class=\"row_heading level0 row4\" >2013</th>\n",
       "                        <td id=\"T_f47c7042_d3ef_11e9_b53a_787b8aba2d9arow4_col0\" class=\"data row4 col0\" >17,270</td>\n",
       "                        <td id=\"T_f47c7042_d3ef_11e9_b53a_787b8aba2d9arow4_col1\" class=\"data row4 col1\" >5,962</td>\n",
       "                        <td id=\"T_f47c7042_d3ef_11e9_b53a_787b8aba2d9arow4_col2\" class=\"data row4 col2\" >4,483</td>\n",
       "                        <td id=\"T_f47c7042_d3ef_11e9_b53a_787b8aba2d9arow4_col3\" class=\"data row4 col3\" >2,368</td>\n",
       "                        <td id=\"T_f47c7042_d3ef_11e9_b53a_787b8aba2d9arow4_col4\" class=\"data row4 col4\" >2,275</td>\n",
       "                        <td id=\"T_f47c7042_d3ef_11e9_b53a_787b8aba2d9arow4_col5\" class=\"data row4 col5\" >81</td>\n",
       "                        <td id=\"T_f47c7042_d3ef_11e9_b53a_787b8aba2d9arow4_col6\" class=\"data row4 col6\" >1.0</td>\n",
       "            </tr>\n",
       "            <tr>\n",
       "                        <th id=\"T_f47c7042_d3ef_11e9_b53a_787b8aba2d9alevel0_row5\" class=\"row_heading level0 row5\" >2014</th>\n",
       "                        <td id=\"T_f47c7042_d3ef_11e9_b53a_787b8aba2d9arow5_col0\" class=\"data row5 col0\" >16,813</td>\n",
       "                        <td id=\"T_f47c7042_d3ef_11e9_b53a_787b8aba2d9arow5_col1\" class=\"data row5 col1\" >5,490</td>\n",
       "                        <td id=\"T_f47c7042_d3ef_11e9_b53a_787b8aba2d9arow5_col2\" class=\"data row5 col2\" >4,133</td>\n",
       "                        <td id=\"T_f47c7042_d3ef_11e9_b53a_787b8aba2d9arow5_col3\" class=\"data row5 col3\" >2,368</td>\n",
       "                        <td id=\"T_f47c7042_d3ef_11e9_b53a_787b8aba2d9arow5_col4\" class=\"data row5 col4\" >2,240</td>\n",
       "                        <td id=\"T_f47c7042_d3ef_11e9_b53a_787b8aba2d9arow5_col5\" class=\"data row5 col5\" >88</td>\n",
       "                        <td id=\"T_f47c7042_d3ef_11e9_b53a_787b8aba2d9arow5_col6\" class=\"data row5 col6\" >1.0</td>\n",
       "            </tr>\n",
       "            <tr>\n",
       "                        <th id=\"T_f47c7042_d3ef_11e9_b53a_787b8aba2d9alevel0_row6\" class=\"row_heading level0 row6\" >2015</th>\n",
       "                        <td id=\"T_f47c7042_d3ef_11e9_b53a_787b8aba2d9arow6_col0\" class=\"data row6 col0\" >16,643</td>\n",
       "                        <td id=\"T_f47c7042_d3ef_11e9_b53a_787b8aba2d9arow6_col1\" class=\"data row6 col1\" >4,791</td>\n",
       "                        <td id=\"T_f47c7042_d3ef_11e9_b53a_787b8aba2d9arow6_col2\" class=\"data row6 col2\" >4,250</td>\n",
       "                        <td id=\"T_f47c7042_d3ef_11e9_b53a_787b8aba2d9arow6_col3\" class=\"data row6 col3\" >2,159</td>\n",
       "                        <td id=\"T_f47c7042_d3ef_11e9_b53a_787b8aba2d9arow6_col4\" class=\"data row6 col4\" >2,157</td>\n",
       "                        <td id=\"T_f47c7042_d3ef_11e9_b53a_787b8aba2d9arow6_col5\" class=\"data row6 col5\" >87</td>\n",
       "                        <td id=\"T_f47c7042_d3ef_11e9_b53a_787b8aba2d9arow6_col6\" class=\"data row6 col6\" >2.0</td>\n",
       "            </tr>\n",
       "            <tr>\n",
       "                        <th id=\"T_f47c7042_d3ef_11e9_b53a_787b8aba2d9alevel0_row7\" class=\"row_heading level0 row7\" >2016</th>\n",
       "                        <td id=\"T_f47c7042_d3ef_11e9_b53a_787b8aba2d9arow7_col0\" class=\"data row7 col0\" >16,550</td>\n",
       "                        <td id=\"T_f47c7042_d3ef_11e9_b53a_787b8aba2d9arow7_col1\" class=\"data row7 col1\" >4,397</td>\n",
       "                        <td id=\"T_f47c7042_d3ef_11e9_b53a_787b8aba2d9arow7_col2\" class=\"data row7 col2\" >3,848</td>\n",
       "                        <td id=\"T_f47c7042_d3ef_11e9_b53a_787b8aba2d9arow7_col3\" class=\"data row7 col3\" >1,916</td>\n",
       "                        <td id=\"T_f47c7042_d3ef_11e9_b53a_787b8aba2d9arow7_col4\" class=\"data row7 col4\" >2,196</td>\n",
       "                        <td id=\"T_f47c7042_d3ef_11e9_b53a_787b8aba2d9arow7_col5\" class=\"data row7 col5\" >115</td>\n",
       "                        <td id=\"T_f47c7042_d3ef_11e9_b53a_787b8aba2d9arow7_col6\" class=\"data row7 col6\" >0.0</td>\n",
       "            </tr>\n",
       "            <tr>\n",
       "                        <th id=\"T_f47c7042_d3ef_11e9_b53a_787b8aba2d9alevel0_row8\" class=\"row_heading level0 row8\" >2017</th>\n",
       "                        <td id=\"T_f47c7042_d3ef_11e9_b53a_787b8aba2d9arow8_col0\" class=\"data row8 col0\" >16,274</td>\n",
       "                        <td id=\"T_f47c7042_d3ef_11e9_b53a_787b8aba2d9arow8_col1\" class=\"data row8 col1\" >3,398</td>\n",
       "                        <td id=\"T_f47c7042_d3ef_11e9_b53a_787b8aba2d9arow8_col2\" class=\"data row8 col2\" >3,202</td>\n",
       "                        <td id=\"T_f47c7042_d3ef_11e9_b53a_787b8aba2d9arow8_col3\" class=\"data row8 col3\" >1,417</td>\n",
       "                        <td id=\"T_f47c7042_d3ef_11e9_b53a_787b8aba2d9arow8_col4\" class=\"data row8 col4\" >2,035</td>\n",
       "                        <td id=\"T_f47c7042_d3ef_11e9_b53a_787b8aba2d9arow8_col5\" class=\"data row8 col5\" >84</td>\n",
       "                        <td id=\"T_f47c7042_d3ef_11e9_b53a_787b8aba2d9arow8_col6\" class=\"data row8 col6\" >1.0</td>\n",
       "            </tr>\n",
       "            <tr>\n",
       "                        <th id=\"T_f47c7042_d3ef_11e9_b53a_787b8aba2d9alevel0_row9\" class=\"row_heading level0 row9\" >2018</th>\n",
       "                        <td id=\"T_f47c7042_d3ef_11e9_b53a_787b8aba2d9arow9_col0\" class=\"data row9 col0\" >16,421</td>\n",
       "                        <td id=\"T_f47c7042_d3ef_11e9_b53a_787b8aba2d9arow9_col1\" class=\"data row9 col1\" >3,019</td>\n",
       "                        <td id=\"T_f47c7042_d3ef_11e9_b53a_787b8aba2d9arow9_col2\" class=\"data row9 col2\" >3,222</td>\n",
       "                        <td id=\"T_f47c7042_d3ef_11e9_b53a_787b8aba2d9arow9_col3\" class=\"data row9 col3\" >1,051</td>\n",
       "                        <td id=\"T_f47c7042_d3ef_11e9_b53a_787b8aba2d9arow9_col4\" class=\"data row9 col4\" >1,824</td>\n",
       "                        <td id=\"T_f47c7042_d3ef_11e9_b53a_787b8aba2d9arow9_col5\" class=\"data row9 col5\" >90</td>\n",
       "                        <td id=\"T_f47c7042_d3ef_11e9_b53a_787b8aba2d9arow9_col6\" class=\"data row9 col6\" >1.0</td>\n",
       "            </tr>\n",
       "    </tbody></table>"
      ],
      "text/plain": [
       "<pandas.io.formats.style.Styler at 0x11fcd8748>"
      ]
     },
     "execution_count": 5,
     "metadata": {},
     "output_type": "execute_result"
    }
   ],
   "source": [
    "atl_short_df = atl_df.loc[:,[\"Crime\", \"Year\"]]\n",
    "\n",
    "atl_years = atl_short_df['Year'].unique()\n",
    "atl_theft = atl_short_df[(atl_short_df['Crime'] == 'Theft') & (atl_short_df.Year < 2019)].groupby('Year')['Crime'].count()\n",
    "atl_burglary = atl_short_df[(atl_short_df['Crime'] == 'Burglary')  & (atl_short_df.Year < 2019)].groupby('Year')['Crime'].count()\n",
    "atl_auto = atl_short_df[(atl_short_df['Crime'] == 'Grand Theft Auto')  & (atl_short_df.Year < 2019)].groupby('Year')['Crime'].count()\n",
    "atl_robbery = atl_short_df[(atl_short_df['Crime'] == 'Robbery')  & (atl_short_df.Year < 2019)].groupby('Year')['Crime'].count()\n",
    "atl_aassault = atl_short_df[(atl_short_df['Crime'] == 'Aggrivated Assault')  & (atl_short_df.Year < 2019)].groupby('Year')['Crime'].count()\n",
    "atl_homicide = atl_short_df[(atl_short_df['Crime'] == 'Homicide')  & (atl_short_df.Year < 2019)].groupby('Year')['Crime'].count()\n",
    "atl_manslaughter = atl_short_df[(atl_short_df['Crime'] == 'Manslaughter')  & (atl_short_df.Year < 2019)].groupby('Year')['Crime'].count()\n",
    "\n",
    "atl_crime_df = pd.DataFrame({\n",
    "    \"Theft\" : atl_theft,\n",
    "    \"Burglary\" : atl_burglary,\n",
    "    \"Grand Theft Auto\" : atl_auto,\n",
    "    \"Robbery\" : atl_robbery,\n",
    "    \"Aggrivated Assault\" : atl_aassault,\n",
    "    \"Homicide\" : atl_homicide,\n",
    "    \"Manslaughter\" : atl_manslaughter\n",
    "})\n",
    "\n",
    "atl_crime_df.fillna(0).style.format(\"{:,}\")"
   ]
  },
  {
   "cell_type": "code",
   "execution_count": 6,
   "metadata": {},
   "outputs": [
    {
     "data": {
      "image/png": "[encoded data removed]",
      "text/plain": [
       "<Figure size 432x288 with 1 Axes>"
      ]
     },
     "metadata": {
      "needs_background": "light"
     },
     "output_type": "display_data"
    }
   ],
   "source": [
    "# Atlanta by year graph\n",
    "x_axis = range(2009, 2019)\n",
    "theft, = plt.plot(x_axis, atl_theft , color=\"red\", label=\"Theft\")\n",
    "burglary, = plt.plot(x_axis, atl_burglary, color=\"blue\", label=\"Burglary\")\n",
    "auto, = plt.plot(x_axis, atl_auto, color=\"green\", label=\"Grand Theft Auto\")\n",
    "robbery, = plt.plot(x_axis, atl_robbery, color=\"purple\", label=\"Robbery\")\n",
    "assault, = plt.plot(x_axis, atl_aassault, color=\"yellow\", label=\"Aggrivated Assault\")\n",
    "homicide, = plt.plot(x_axis, atl_homicide, color=\"magenta\", label=\"Homicide\")\n",
    "\n",
    "#Add labels to graph\n",
    "plt.title(\"Atlanta Crime Rates | 2009 - 2018\")\n",
    "plt.xlabel(\"Years\")\n",
    "plt.ylabel(\"Number of Incidents\")\n",
    "\n",
    "plt.legend(handles=[theft, burglary, auto, robbery, assault, homicide], loc='center', bbox_to_anchor=(.5, -.25), ncol=3, fancybox=True, shadow=True)\n",
    "plt.savefig(\"images/ATLYears.png\")"
   ]
  },
  {
   "cell_type": "code",
   "execution_count": 7,
   "metadata": {},
   "outputs": [
    {
     "data": {
      "image/png": "[encoded data removed]",
      "text/plain": [
       "<Figure size 432x288 with 1 Axes>"
      ]
     },
     "metadata": {
      "needs_background": "light"
     },
     "output_type": "display_data"
    }
   ],
   "source": [
    "# Atlanta by year graph\n",
    "x_axis = range(2009, 2019)\n",
    "# theft, = plt.plot(x_axis, atl_theft , color=\"red\", label=\"Theft\")\n",
    "burglary, = plt.plot(x_axis, atl_burglary, color=\"blue\", label=\"Burglary\")\n",
    "auto, = plt.plot(x_axis, atl_auto, color=\"green\", label=\"Grand Theft Auto\")\n",
    "robbery, = plt.plot(x_axis, atl_robbery, color=\"purple\", label=\"Robbery\")\n",
    "assault, = plt.plot(x_axis, atl_aassault, color=\"yellow\", label=\"Aggrivated Assault\")\n",
    "homicide, = plt.plot(x_axis, atl_homicide, color=\"magenta\", label=\"Homicide\")\n",
    "\n",
    "#Add labels to graph\n",
    "plt.title(\"Atlanta Crime Rates | 2009 - 2018\")\n",
    "plt.xlabel(\"Years\")\n",
    "plt.ylabel(\"Number of Incidents\")\n",
    "\n",
    "plt.legend(handles=[theft, burglary, auto, robbery, assault, homicide], loc='center', bbox_to_anchor=(.5, -.25), ncol=3, fancybox=True, shadow=True)\n",
    "plt.savefig(\"images/ATLYearsZoom.png\")"
   ]
  },
  {
   "cell_type": "code",
   "execution_count": null,
   "metadata": {},
   "outputs": [],
   "source": [
    "atl_month_df = atl_df.loc[:,[\"Crime\", \"Month\", \"Year\"]]\n",
    "atl_years = atl_month_df['Year'].unique()\n",
    "atl_theft = atl_month_df[(atl_month_df.Crime == 'Theft') & (atl_month_df.Year == 2019) & (atl_month_df.Month < 3)].groupby('Year')['Crime'].count()\n",
    "atl_burglary = atl_month_df[(atl_month_df.Crime == 'Burglary')  & (atl_month_df.Year == 2019) & (atl_month_df.Month < 3)].groupby('Year')['Crime'].count()\n",
    "atl_auto = atl_month_df[(atl_month_df.Crime == 'Grand Theft Auto')  & (atl_month_df.Year == 2019) & (atl_month_df.Month < 3)].groupby('Year')['Crime'].count()\n",
    "atl_robbery = atl_month_df[(atl_month_df.Crime == 'Robbery')  & (atl_month_df.Year == 2019) & (atl_month_df.Month < 3)].groupby('Year')['Crime'].count()\n",
    "atl_aassault = atl_month_df[(atl_month_df.Crime == 'Aggrivated Assault')  & (atl_month_df.Year == 2019) & (atl_month_df.Month < 3)].groupby('Year')['Crime'].count()\n",
    "atl_homicide = atl_month_df[(atl_month_df.Crime == 'Homicide')  & (atl_month_df == 2019) & (atl_month_df.Month < 3)].groupby('Year')['Crime'].count()\n",
    "atl_manslaughter = atl_month_df[(atl_month_df.Crime == 'Manslaughter')  & (atl_month_df.Year == 2019) & (atl_month_df.Month < 3)].groupby('Year')['Crime'].count()\n",
    "\n",
    "atl_crime_2019_df = pd.DataFrame({\n",
    "    \"Theft\" : atl_theft,\n",
    "    \"Burglary\" : atl_burglary,\n",
    "    \"Grand Theft Auto\" : atl_auto,\n",
    "    \"Robbery\" : atl_robbery,\n",
    "    \"Aggrivated Assault\" : atl_aassault,\n",
    "    \"Homicide\" : atl_homicide,\n",
    "    \"Manslaughter\" : atl_manslaughter\n",
    "})\n",
    "\n",
    "atl_crime_2019_df.head()"
   ]
  },
  {
   "cell_type": "code",
   "execution_count": null,
   "metadata": {},
   "outputs": [],
   "source": []
  },
  {
   "cell_type": "code",
   "execution_count": null,
   "metadata": {},
   "outputs": [],
   "source": []
  }
 ],
 "metadata": {
  "kernelspec": {
   "display_name": "Python 3",
   "language": "python",
   "name": "python3"
  },
  "language_info": {
   "codemirror_mode": {
    "name": "ipython",
    "version": 3
   },
   "file_extension": ".py",
   "mimetype": "text/x-python",
   "name": "python",
   "nbconvert_exporter": "python",
   "pygments_lexer": "ipython3",
   "version": "3.7.3"
  }
 },
 "nbformat": 4,
 "nbformat_minor": 2
}
