{
 "cells": [
  {
   "cell_type": "code",
   "execution_count": 17,
   "metadata": {},
   "outputs": [],
   "source": [
    "import requests\n",
    "import json\n",
    "import pandas as pd\n",
    "import numpy as np\n",
    "import matplotlib.pyplot as plt"
   ]
  },
  {
   "cell_type": "code",
   "execution_count": 24,
   "metadata": {},
   "outputs": [],
   "source": [
    "# Input Files (CSV)\n",
    "# minneapolis = \"DataFiles/minneaplis_sorted_date.csv\"\n",
    "# indianapolis = \"DataFiles/indianapolis_sorted_date.csv\"\n",
    "# atlanta = \"DataFiles/atlanta_sorted_date.csv\"\n",
    "atlanta2019 = \"DataFiles/Atlanta-2019.csv\"\n",
    "# dallas = \"DataFiles/dallas_sorted_date.csv\"\n",
    "# miami = \"DataFiles/miami_sorted_date.csv\"\n",
    "\n",
    "# Output Files (CSV)\n",
    "# minne_out = \"DataFiles/minneaplis_sorted.csv\"\n",
    "# india_out = \"DataFiles/indianapolis_sorted.csv\"\n",
    "# atlanta_out = \"DataFiles/atlanta_sorted.csv\"\n",
    "atlanta2019_out = \"DataFiles/atlanta2019_sorted_date.csv\"\n",
    "# dallas_out = \"DataFiles/dallas_sorted.csv\"\n",
    "# miami_out = \"DataFiles/miami_sorted.csv\""
   ]
  },
  {
   "cell_type": "code",
   "execution_count": 4,
   "metadata": {},
   "outputs": [
    {
     "data": {
      "text/plain": [
       "Other Theft                       43460\n",
       "Theft From Motr Vehc              26122\n",
       "Burglary Of Dwelling              25993\n",
       "Motor Vehicle Theft               12703\n",
       "Shoplifting                        6406\n",
       "Robbery Per Agg                    6069\n",
       "Robbery Of Person                  5254\n",
       "Burglary Of Business               5129\n",
       "Asslt W/dngrs Weapon               4556\n",
       "Bike Theft                         4494\n",
       "Theft From Person                  2635\n",
       "Crim Sex Cond-rape                 2079\n",
       "Domestic Assault/Strangulation     1945\n",
       "2nd Deg Domes Aslt                 1779\n",
       "Theft By Swindle                   1644\n",
       "Aslt-sgnfcnt Bdly Hm               1342\n",
       "Robbery Of Business                 846\n",
       "Theft-motr Veh Parts                823\n",
       "Arson                               820\n",
       "Aslt-police/emerg P                 714\n",
       "Theft From Building                 656\n",
       "3rd Deg Domes Aslt                  466\n",
       "Murder (general)                    184\n",
       "Aslt-great Bodily Hm                158\n",
       "Other Vehicle Theft                 150\n",
       "Gas Station Driv-off                 91\n",
       "Scrapping-Recycling Theft            62\n",
       "Theft/coinop Device                  52\n",
       "Theft By Computer                    29\n",
       "1st Deg Domes Asslt                  20\n",
       "Pocket-picking                       17\n",
       "On-line Theft                        15\n",
       "Disarm a Police Officer               7\n",
       "Justifiable Homicide                  1\n",
       "Looting                               1\n",
       "Name: Description, dtype: int64"
      ]
     },
     "execution_count": 4,
     "metadata": {},
     "output_type": "execute_result"
    }
   ],
   "source": [
    "minne_cleaning_start_df = pd.read_csv(minneapolis)\n",
    "minne_cleaning_start_df.head()\n",
    "minne_cleaning_start_df[\"Description\"].value_counts()"
   ]
  },
  {
   "cell_type": "code",
   "execution_count": 6,
   "metadata": {},
   "outputs": [
    {
     "data": {
      "text/plain": [
       "ASSAULT - SIMPLE                77153\n",
       "BURG - FRC ENT - RES DAY        32473\n",
       "VEHICLE THEFT                   31003\n",
       "STOLEN VEHICLE                  30548\n",
       "LARCENY-OVER 200-FROM AUTO      27825\n",
       "BURG-FORCIBLE ENT-RES DAY       24238\n",
       "LARC-OVER 200-FROM VEHICL       23527\n",
       "LARCENY-OVER 200-FROM BUILD     20184\n",
       "BURG - FRC ENT - RES NGT        18765\n",
       "LARC-OVER 200-BUILDING          17269\n",
       "AGGRAVATED ASSAULT-OTHER WE     15010\n",
       "BURG-FORCIBLE ENT-RES NIGHT     14453\n",
       "LARCENY-OVER 200-OTHER          13814\n",
       "ASSAULT - OTHER WEAPON          12972\n",
       "AGGRAVATED ASSAULT-GUN          12829\n",
       "LARC-OVER 200-OTHER             12810\n",
       "LARC-OVER 200-VEH ACCESS        12579\n",
       "LARC-UNDER 50-VEH ACCESS        12516\n",
       "LARCENY-50 TO 200-SHOPLIFTI     10860\n",
       "LARC-UNDER 50-SHOPLIFTING       10815\n",
       "AGGRAVATED ASSAULT-HANDS,FI     10061\n",
       "LARC-50/200-FROM VEHICL         10048\n",
       "LARCENY-UNDER 50-SHOPLIFTIN      9828\n",
       "LARCENY-50 TO 200-FROM AUTO      9453\n",
       "LARC-50/200-SHOPLIFTING          9134\n",
       "BURG - NO FRC - RES DAY          9078\n",
       "LARC-50/200-BUILDING             8691\n",
       "LARC-UNDER 50-FROM VEHICL        8688\n",
       "LARCENY-50 TO 200-FROM BUIL      8387\n",
       "LARCENY-UNDER 50-AUTO ACCES      8249\n",
       "                                ...  \n",
       "ROBBERY-ARMED-BANK                 99\n",
       "LARCENY-UNDER 50-COIN OPERA        98\n",
       "LARCENY-OVER 200-COIN OPERA        98\n",
       "ROBBERY-STRONG ARM-OIL STAT        87\n",
       "LARC-OVER 200-COIN OP MAC          85\n",
       "ROBBERY - STRARM OIL ST            83\n",
       "ROBBERY - STRARM BANK              83\n",
       "LARCENY-50 TO 200-FROM BUILD       81\n",
       "LARCENY-50 TO 200-PURSESNAT        81\n",
       "ROBBERY - STRARM CHAIN ST          80\n",
       "LARCENY-50 TO 200-COIN OPER        73\n",
       "LARCENY-UNDER 50-FROM BUILDI       64\n",
       "LARCENY-OVER 200-AUTO ACCESS       62\n",
       "ROBBERY-ARMED-CHAIN STORE          57\n",
       "ROBBERY-STRONG ARM-BANK            52\n",
       "LARCENY-UNDER 50-PURSESNATC        51\n",
       "BURG-FORCIBLE ENT-NON-RES NI       47\n",
       "ROBBERY-ARMED-COMMERCIAL HOU       32\n",
       "BURG-FORCIBLE ENT-NON-RES DA       24\n",
       "ROBBERY-STRONG ARM-RESIDENCE       19\n",
       "MANSLAUGHTER BY NEG                13\n",
       "LARCENY-50 TO 200-AUTO ACCES       10\n",
       "ROBBERY-STRONG ARM-COMMERCIA        7\n",
       "ROBBERY-STRONG ARM-CHAIN ST         6\n",
       " CRIMINAL HOMICIDE                  5\n",
       "LARCENY-UNDER 50-POCKETPICKI        4\n",
       "LARCENY-OVER 200-POCKETPICKI        4\n",
       "ATTEMPT STRONG ARMED ROBBERY        4\n",
       "LARCENY-50 TO 200-POCKETPICK        1\n",
       "LARCENY-50 TO 200-PURSESNATC        1\n",
       "Name: CRIME, Length: 152, dtype: int64"
      ]
     },
     "execution_count": 6,
     "metadata": {},
     "output_type": "execute_result"
    }
   ],
   "source": [
    "india_cleaning_start_df = pd.read_csv(indianapolis)\n",
    "india_cleaning_start_df.head()\n",
    "india_cleaning_start_df[\"CRIME\"].value_counts()\n"
   ]
  },
  {
   "cell_type": "code",
   "execution_count": 7,
   "metadata": {},
   "outputs": [
    {
     "data": {
      "text/html": [
       "<div>\n",
       "<style scoped>\n",
       "    .dataframe tbody tr th:only-of-type {\n",
       "        vertical-align: middle;\n",
       "    }\n",
       "\n",
       "    .dataframe tbody tr th {\n",
       "        vertical-align: top;\n",
       "    }\n",
       "\n",
       "    .dataframe thead th {\n",
       "        text-align: right;\n",
       "    }\n",
       "</style>\n",
       "<table border=\"1\" class=\"dataframe\">\n",
       "  <thead>\n",
       "    <tr style=\"text-align: right;\">\n",
       "      <th></th>\n",
       "      <th>Unnamed: 0</th>\n",
       "      <th>CRIME</th>\n",
       "      <th>DATE_</th>\n",
       "      <th>Month</th>\n",
       "      <th>Day</th>\n",
       "      <th>Year</th>\n",
       "      <th>TIME</th>\n",
       "      <th>UCR</th>\n",
       "      <th>X_COORD</th>\n",
       "      <th>Y_COORD</th>\n",
       "    </tr>\n",
       "  </thead>\n",
       "  <tbody>\n",
       "    <tr>\n",
       "      <th>0</th>\n",
       "      <td>0</td>\n",
       "      <td>CRIMINAL HOMICIDE</td>\n",
       "      <td>2007-01-01T00:00:00.000Z</td>\n",
       "      <td>1</td>\n",
       "      <td>1</td>\n",
       "      <td>2007</td>\n",
       "      <td>4:24</td>\n",
       "      <td>110</td>\n",
       "      <td>197257.63</td>\n",
       "      <td>1665903.64</td>\n",
       "    </tr>\n",
       "    <tr>\n",
       "      <th>1</th>\n",
       "      <td>1</td>\n",
       "      <td>CRIMINAL HOMICIDE</td>\n",
       "      <td>2007-01-01T00:00:00.000Z</td>\n",
       "      <td>1</td>\n",
       "      <td>1</td>\n",
       "      <td>2007</td>\n",
       "      <td>10:39</td>\n",
       "      <td>110</td>\n",
       "      <td>194654.40</td>\n",
       "      <td>1657659.54</td>\n",
       "    </tr>\n",
       "    <tr>\n",
       "      <th>2</th>\n",
       "      <td>2</td>\n",
       "      <td>CRIMINAL HOMICIDE</td>\n",
       "      <td>2007-01-04T00:00:00.000Z</td>\n",
       "      <td>1</td>\n",
       "      <td>4</td>\n",
       "      <td>2007</td>\n",
       "      <td>18:01</td>\n",
       "      <td>110</td>\n",
       "      <td>210918.07</td>\n",
       "      <td>1667754.09</td>\n",
       "    </tr>\n",
       "    <tr>\n",
       "      <th>3</th>\n",
       "      <td>3</td>\n",
       "      <td>CRIMINAL HOMICIDE</td>\n",
       "      <td>2007-01-10T00:00:00.000Z</td>\n",
       "      <td>1</td>\n",
       "      <td>10</td>\n",
       "      <td>2007</td>\n",
       "      <td>7:06</td>\n",
       "      <td>110</td>\n",
       "      <td>237903.29</td>\n",
       "      <td>1658024.95</td>\n",
       "    </tr>\n",
       "    <tr>\n",
       "      <th>4</th>\n",
       "      <td>4</td>\n",
       "      <td>CRIMINAL HOMICIDE</td>\n",
       "      <td>2007-01-10T00:00:00.000Z</td>\n",
       "      <td>1</td>\n",
       "      <td>10</td>\n",
       "      <td>2007</td>\n",
       "      <td>18:19</td>\n",
       "      <td>110</td>\n",
       "      <td>192426.71</td>\n",
       "      <td>1635335.92</td>\n",
       "    </tr>\n",
       "  </tbody>\n",
       "</table>\n",
       "</div>"
      ],
      "text/plain": [
       "   Unnamed: 0              CRIME                     DATE_  Month  Day  Year  \\\n",
       "0           0  CRIMINAL HOMICIDE  2007-01-01T00:00:00.000Z      1    1  2007   \n",
       "1           1  CRIMINAL HOMICIDE  2007-01-01T00:00:00.000Z      1    1  2007   \n",
       "2           2  CRIMINAL HOMICIDE  2007-01-04T00:00:00.000Z      1    4  2007   \n",
       "3           3  CRIMINAL HOMICIDE  2007-01-10T00:00:00.000Z      1   10  2007   \n",
       "4           4  CRIMINAL HOMICIDE  2007-01-10T00:00:00.000Z      1   10  2007   \n",
       "\n",
       "    TIME  UCR    X_COORD     Y_COORD  \n",
       "0   4:24  110  197257.63  1665903.64  \n",
       "1  10:39  110  194654.40  1657659.54  \n",
       "2  18:01  110  210918.07  1667754.09  \n",
       "3   7:06  110  237903.29  1658024.95  \n",
       "4  18:19  110  192426.71  1635335.92  "
      ]
     },
     "execution_count": 7,
     "metadata": {},
     "output_type": "execute_result"
    }
   ],
   "source": [
    "india_cleaning_start_df.head()"
   ]
  },
  {
   "cell_type": "code",
   "execution_count": 20,
   "metadata": {},
   "outputs": [
    {
     "data": {
      "text/plain": [
       "2009    39396\n",
       "2010    35502\n",
       "2011    34875\n",
       "2012    33408\n",
       "2013    32440\n",
       "2014    31133\n",
       "2015    30089\n",
       "2016    29022\n",
       "2017    26411\n",
       "2018    25628\n",
       "Name: Year, dtype: int64"
      ]
     },
     "execution_count": 20,
     "metadata": {},
     "output_type": "execute_result"
    }
   ],
   "source": [
    "atl_start_df = pd.read_csv(atlanta)\n",
    "atl_start_df = atlanta_cleaning_start_df.loc[:, [\"UCR Literal\", \"Report Date\", \"Month\", \"Day\", \"Year\", \"Occur Time\", \"UCR #\", \"Latitude\", \"Longitude\"]]\n",
    "atl_start_df.head()\n",
    "atl_start_df[\"Year\"].value_counts()"
   ]
  },
  {
   "cell_type": "code",
   "execution_count": 22,
   "metadata": {},
   "outputs": [
    {
     "data": {
      "text/html": [
       "<div>\n",
       "<style scoped>\n",
       "    .dataframe tbody tr th:only-of-type {\n",
       "        vertical-align: middle;\n",
       "    }\n",
       "\n",
       "    .dataframe tbody tr th {\n",
       "        vertical-align: top;\n",
       "    }\n",
       "\n",
       "    .dataframe thead th {\n",
       "        text-align: right;\n",
       "    }\n",
       "</style>\n",
       "<table border=\"1\" class=\"dataframe\">\n",
       "  <thead>\n",
       "    <tr style=\"text-align: right;\">\n",
       "      <th></th>\n",
       "      <th>UCR Literal</th>\n",
       "      <th>Report Date</th>\n",
       "      <th>Month</th>\n",
       "      <th>Day</th>\n",
       "      <th>Year</th>\n",
       "      <th>Occur Time</th>\n",
       "      <th>UCR #</th>\n",
       "      <th>Latitude</th>\n",
       "      <th>Longitude</th>\n",
       "    </tr>\n",
       "  </thead>\n",
       "  <tbody>\n",
       "    <tr>\n",
       "      <th>0</th>\n",
       "      <td>LARCENY-NON VEHICLE</td>\n",
       "      <td>1/1/2019</td>\n",
       "      <td>1</td>\n",
       "      <td>1</td>\n",
       "      <td>2019</td>\n",
       "      <td>20</td>\n",
       "      <td>620</td>\n",
       "      <td>33.75194</td>\n",
       "      <td>-84.38964</td>\n",
       "    </tr>\n",
       "    <tr>\n",
       "      <th>1</th>\n",
       "      <td>LARCENY-NON VEHICLE</td>\n",
       "      <td>1/1/2019</td>\n",
       "      <td>1</td>\n",
       "      <td>1</td>\n",
       "      <td>2019</td>\n",
       "      <td>120</td>\n",
       "      <td>620</td>\n",
       "      <td>33.75312</td>\n",
       "      <td>-84.39208</td>\n",
       "    </tr>\n",
       "    <tr>\n",
       "      <th>2</th>\n",
       "      <td>LARCENY-NON VEHICLE</td>\n",
       "      <td>1/1/2019</td>\n",
       "      <td>1</td>\n",
       "      <td>1</td>\n",
       "      <td>2019</td>\n",
       "      <td>1740</td>\n",
       "      <td>620</td>\n",
       "      <td>33.68077</td>\n",
       "      <td>-84.49370</td>\n",
       "    </tr>\n",
       "    <tr>\n",
       "      <th>3</th>\n",
       "      <td>LARCENY-FROM VEHICLE</td>\n",
       "      <td>1/1/2019</td>\n",
       "      <td>1</td>\n",
       "      <td>1</td>\n",
       "      <td>2019</td>\n",
       "      <td>2350</td>\n",
       "      <td>640</td>\n",
       "      <td>33.75126</td>\n",
       "      <td>-84.37207</td>\n",
       "    </tr>\n",
       "    <tr>\n",
       "      <th>4</th>\n",
       "      <td>LARCENY-FROM VEHICLE</td>\n",
       "      <td>1/1/2019</td>\n",
       "      <td>1</td>\n",
       "      <td>1</td>\n",
       "      <td>2018</td>\n",
       "      <td>414</td>\n",
       "      <td>640</td>\n",
       "      <td>33.70204</td>\n",
       "      <td>-84.44972</td>\n",
       "    </tr>\n",
       "  </tbody>\n",
       "</table>\n",
       "</div>"
      ],
      "text/plain": [
       "            UCR Literal Report Date  Month  Day  Year Occur Time  UCR #  \\\n",
       "0   LARCENY-NON VEHICLE    1/1/2019      1    1  2019         20    620   \n",
       "1   LARCENY-NON VEHICLE    1/1/2019      1    1  2019        120    620   \n",
       "2   LARCENY-NON VEHICLE    1/1/2019      1    1  2019       1740    620   \n",
       "3  LARCENY-FROM VEHICLE    1/1/2019      1    1  2019       2350    640   \n",
       "4  LARCENY-FROM VEHICLE    1/1/2019      1    1  2018        414    640   \n",
       "\n",
       "   Latitude  Longitude  \n",
       "0  33.75194  -84.38964  \n",
       "1  33.75312  -84.39208  \n",
       "2  33.68077  -84.49370  \n",
       "3  33.75126  -84.37207  \n",
       "4  33.70204  -84.44972  "
      ]
     },
     "execution_count": 22,
     "metadata": {},
     "output_type": "execute_result"
    }
   ],
   "source": [
    "atl2019_start_df = pd.read_csv(atlanta2019)\n",
    "atl2019_start_df = atl2019_start_df.loc[:, [\"UCR Literal\", \"Report Date\", \"Month\", \"Day\", \"Year\", \"Occur Time\", \"UCR #\", \"Latitude\", \"Longitude\"]]\n",
    "atl2019_start_df.head()\n",
    "# atl2019_start_df[\"Year\"].value_counts()"
   ]
  },
  {
   "cell_type": "code",
   "execution_count": 25,
   "metadata": {},
   "outputs": [],
   "source": [
    "atl2019_start_df.to_csv(atlanta2019_out)"
   ]
  },
  {
   "cell_type": "code",
   "execution_count": 90,
   "metadata": {},
   "outputs": [
    {
     "data": {
      "text/plain": [
       "2019    38171\n",
       "2018    14533\n",
       "2010        1\n",
       "2016        1\n",
       "Name: Year, dtype: int64"
      ]
     },
     "execution_count": 90,
     "metadata": {},
     "output_type": "execute_result"
    }
   ],
   "source": [
    "dallas_cleaning_start_df = pd.read_csv(dallas)\n",
    "dallas_cleaning_start_df.head()\n",
    "dallas_cleaning_start_df[\"Year\"].value_counts()"
   ]
  },
  {
   "cell_type": "code",
   "execution_count": 100,
   "metadata": {},
   "outputs": [
    {
     "data": {
      "text/plain": [
       "2016    57016\n",
       "2018    55741\n",
       "2017    53961\n",
       "2019    36702\n",
       "2015    35602\n",
       "Name: Year, dtype: int64"
      ]
     },
     "execution_count": 100,
     "metadata": {},
     "output_type": "execute_result"
    }
   ],
   "source": [
    "miami_cleaning_start_df = pd.read_csv(miami)\n",
    "miami_cleaning_start_df.head()\n",
    "miami_cleaning_start_df[\"Year\"].value_counts()"
   ]
  },
  {
   "cell_type": "code",
   "execution_count": null,
   "metadata": {},
   "outputs": [],
   "source": []
  }
 ],
 "metadata": {
  "kernelspec": {
   "display_name": "Python 3",
   "language": "python",
   "name": "python3"
  },
  "language_info": {
   "codemirror_mode": {
    "name": "ipython",
    "version": 3
   },
   "file_extension": ".py",
   "mimetype": "text/x-python",
   "name": "python",
   "nbconvert_exporter": "python",
   "pygments_lexer": "ipython3",
   "version": "3.7.3"
  }
 },
 "nbformat": 4,
 "nbformat_minor": 2
}
