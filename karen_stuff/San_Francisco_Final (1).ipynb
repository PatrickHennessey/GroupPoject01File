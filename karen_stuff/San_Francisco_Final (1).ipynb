{
 "cells": [
  {
   "cell_type": "code",
   "execution_count": 1,
   "metadata": {},
   "outputs": [],
   "source": [
    "# Dependencies\n",
    "import pandas as pd\n",
    "import numpy as np\n",
    "import matplotlib.pyplot as plt\n",
    "%matplotlib notebook"
   ]
  },
  {
   "cell_type": "code",
   "execution_count": 2,
   "metadata": {},
   "outputs": [
    {
     "data": {
      "text/html": [
       "<div>\n",
       "<style scoped>\n",
       "    .dataframe tbody tr th:only-of-type {\n",
       "        vertical-align: middle;\n",
       "    }\n",
       "\n",
       "    .dataframe tbody tr th {\n",
       "        vertical-align: top;\n",
       "    }\n",
       "\n",
       "    .dataframe thead th {\n",
       "        text-align: right;\n",
       "    }\n",
       "</style>\n",
       "<table border=\"1\" class=\"dataframe\">\n",
       "  <thead>\n",
       "    <tr style=\"text-align: right;\">\n",
       "      <th></th>\n",
       "      <th>Unnamed: 0</th>\n",
       "      <th>Category</th>\n",
       "      <th>Descript</th>\n",
       "      <th>Date</th>\n",
       "      <th>DayOfWeek</th>\n",
       "    </tr>\n",
       "  </thead>\n",
       "  <tbody>\n",
       "    <tr>\n",
       "      <th>0</th>\n",
       "      <td>0</td>\n",
       "      <td>VEHICLE THEFT</td>\n",
       "      <td>STOLEN MOTORCYCLE</td>\n",
       "      <td>05/15/2018</td>\n",
       "      <td>Tuesday</td>\n",
       "    </tr>\n",
       "    <tr>\n",
       "      <th>1</th>\n",
       "      <td>1</td>\n",
       "      <td>NON-CRIMINAL</td>\n",
       "      <td>AIDED CASE, MENTAL DISTURBED</td>\n",
       "      <td>05/15/2018</td>\n",
       "      <td>Tuesday</td>\n",
       "    </tr>\n",
       "    <tr>\n",
       "      <th>2</th>\n",
       "      <td>2</td>\n",
       "      <td>OTHER OFFENSES</td>\n",
       "      <td>PAROLE VIOLATION</td>\n",
       "      <td>05/15/2018</td>\n",
       "      <td>Tuesday</td>\n",
       "    </tr>\n",
       "    <tr>\n",
       "      <th>3</th>\n",
       "      <td>3</td>\n",
       "      <td>OTHER OFFENSES</td>\n",
       "      <td>TRAFFIC VIOLATION ARREST</td>\n",
       "      <td>05/15/2018</td>\n",
       "      <td>Tuesday</td>\n",
       "    </tr>\n",
       "    <tr>\n",
       "      <th>4</th>\n",
       "      <td>4</td>\n",
       "      <td>OTHER OFFENSES</td>\n",
       "      <td>TRAFFIC VIOLATION</td>\n",
       "      <td>05/15/2018</td>\n",
       "      <td>Tuesday</td>\n",
       "    </tr>\n",
       "  </tbody>\n",
       "</table>\n",
       "</div>"
      ],
      "text/plain": [
       "   Unnamed: 0        Category                      Descript        Date  \\\n",
       "0           0   VEHICLE THEFT             STOLEN MOTORCYCLE  05/15/2018   \n",
       "1           1    NON-CRIMINAL  AIDED CASE, MENTAL DISTURBED  05/15/2018   \n",
       "2           2  OTHER OFFENSES              PAROLE VIOLATION  05/15/2018   \n",
       "3           3  OTHER OFFENSES      TRAFFIC VIOLATION ARREST  05/15/2018   \n",
       "4           4  OTHER OFFENSES             TRAFFIC VIOLATION  05/15/2018   \n",
       "\n",
       "  DayOfWeek  \n",
       "0   Tuesday  \n",
       "1   Tuesday  \n",
       "2   Tuesday  \n",
       "3   Tuesday  \n",
       "4   Tuesday  "
      ]
     },
     "execution_count": 2,
     "metadata": {},
     "output_type": "execute_result"
    }
   ],
   "source": [
    "# read San Francisco Crime csv\n",
    "sf_df = pd.read_csv(\"../San_Fran_Cleaned_Data.csv\")\n",
    "sf_df.head()"
   ]
  },
  {
   "cell_type": "code",
   "execution_count": 4,
   "metadata": {},
   "outputs": [
    {
     "data": {
      "text/plain": [
       "Unnamed: 0    2215024\n",
       "Category      2215024\n",
       "Descript      2215024\n",
       "Date          2215024\n",
       "DayOfWeek     2215024\n",
       "dtype: int64"
      ]
     },
     "execution_count": 4,
     "metadata": {},
     "output_type": "execute_result"
    }
   ],
   "source": [
    "sf_df.count()"
   ]
  },
  {
   "cell_type": "code",
   "execution_count": 4,
   "metadata": {},
   "outputs": [],
   "source": [
    "# Converting Time to Date\n",
    "sf_df['Date'] = pd.to_datetime(sf_df['Date'])"
   ]
  },
  {
   "cell_type": "code",
   "execution_count": 3,
   "metadata": {},
   "outputs": [
    {
     "data": {
      "text/html": [
       "<div>\n",
       "<style scoped>\n",
       "    .dataframe tbody tr th:only-of-type {\n",
       "        vertical-align: middle;\n",
       "    }\n",
       "\n",
       "    .dataframe tbody tr th {\n",
       "        vertical-align: top;\n",
       "    }\n",
       "\n",
       "    .dataframe thead th {\n",
       "        text-align: right;\n",
       "    }\n",
       "</style>\n",
       "<table border=\"1\" class=\"dataframe\">\n",
       "  <thead>\n",
       "    <tr style=\"text-align: right;\">\n",
       "      <th></th>\n",
       "      <th>Unnamed: 0</th>\n",
       "      <th>Category</th>\n",
       "      <th>Descript</th>\n",
       "      <th>Date</th>\n",
       "      <th>DayOfWeek</th>\n",
       "    </tr>\n",
       "  </thead>\n",
       "  <tbody>\n",
       "    <tr>\n",
       "      <th>0</th>\n",
       "      <td>0</td>\n",
       "      <td>VEHICLE THEFT</td>\n",
       "      <td>STOLEN MOTORCYCLE</td>\n",
       "      <td>05/15/2018</td>\n",
       "      <td>Tuesday</td>\n",
       "    </tr>\n",
       "    <tr>\n",
       "      <th>1</th>\n",
       "      <td>1</td>\n",
       "      <td>NON-CRIMINAL</td>\n",
       "      <td>AIDED CASE, MENTAL DISTURBED</td>\n",
       "      <td>05/15/2018</td>\n",
       "      <td>Tuesday</td>\n",
       "    </tr>\n",
       "    <tr>\n",
       "      <th>2</th>\n",
       "      <td>2</td>\n",
       "      <td>OTHER OFFENSES</td>\n",
       "      <td>PAROLE VIOLATION</td>\n",
       "      <td>05/15/2018</td>\n",
       "      <td>Tuesday</td>\n",
       "    </tr>\n",
       "    <tr>\n",
       "      <th>3</th>\n",
       "      <td>3</td>\n",
       "      <td>OTHER OFFENSES</td>\n",
       "      <td>TRAFFIC VIOLATION ARREST</td>\n",
       "      <td>05/15/2018</td>\n",
       "      <td>Tuesday</td>\n",
       "    </tr>\n",
       "    <tr>\n",
       "      <th>4</th>\n",
       "      <td>4</td>\n",
       "      <td>OTHER OFFENSES</td>\n",
       "      <td>TRAFFIC VIOLATION</td>\n",
       "      <td>05/15/2018</td>\n",
       "      <td>Tuesday</td>\n",
       "    </tr>\n",
       "  </tbody>\n",
       "</table>\n",
       "</div>"
      ],
      "text/plain": [
       "   Unnamed: 0        Category                      Descript        Date  \\\n",
       "0           0   VEHICLE THEFT             STOLEN MOTORCYCLE  05/15/2018   \n",
       "1           1    NON-CRIMINAL  AIDED CASE, MENTAL DISTURBED  05/15/2018   \n",
       "2           2  OTHER OFFENSES              PAROLE VIOLATION  05/15/2018   \n",
       "3           3  OTHER OFFENSES      TRAFFIC VIOLATION ARREST  05/15/2018   \n",
       "4           4  OTHER OFFENSES             TRAFFIC VIOLATION  05/15/2018   \n",
       "\n",
       "  DayOfWeek  \n",
       "0   Tuesday  \n",
       "1   Tuesday  \n",
       "2   Tuesday  \n",
       "3   Tuesday  \n",
       "4   Tuesday  "
      ]
     },
     "execution_count": 3,
     "metadata": {},
     "output_type": "execute_result"
    }
   ],
   "source": [
    "# Combining types of crimes\n",
    "sf_df = sf_df.replace({\"DISORDERLY CONDUCT\": \"Drunk/Disorderly\", \"DRUNKENNESS\": \"Drunk/Disorderly\", \"VANDALISM\": \"Drunk/Disorderly\",\\\n",
    "                      \"LARCENY/THEFT\": \"Theft\", \"STOLEN PROPERTY\": \"Theft\"})\n",
    "sf_df.head()"
   ]
  },
  {
   "cell_type": "code",
   "execution_count": 6,
   "metadata": {},
   "outputs": [
    {
     "data": {
      "text/html": [
       "<div>\n",
       "<style scoped>\n",
       "    .dataframe tbody tr th:only-of-type {\n",
       "        vertical-align: middle;\n",
       "    }\n",
       "\n",
       "    .dataframe tbody tr th {\n",
       "        vertical-align: top;\n",
       "    }\n",
       "\n",
       "    .dataframe thead th {\n",
       "        text-align: right;\n",
       "    }\n",
       "</style>\n",
       "<table border=\"1\" class=\"dataframe\">\n",
       "  <thead>\n",
       "    <tr style=\"text-align: right;\">\n",
       "      <th></th>\n",
       "      <th>Unnamed: 0</th>\n",
       "      <th>Category</th>\n",
       "      <th>Descript</th>\n",
       "      <th>Date</th>\n",
       "      <th>DayOfWeek</th>\n",
       "    </tr>\n",
       "  </thead>\n",
       "  <tbody>\n",
       "    <tr>\n",
       "      <th>0</th>\n",
       "      <td>0</td>\n",
       "      <td>VEHICLE THEFT</td>\n",
       "      <td>STOLEN MOTORCYCLE</td>\n",
       "      <td>2018-05-15</td>\n",
       "      <td>Tuesday</td>\n",
       "    </tr>\n",
       "    <tr>\n",
       "      <th>7</th>\n",
       "      <td>7</td>\n",
       "      <td>DRUG/NARCOTIC</td>\n",
       "      <td>POSSESSION OF NARCOTICS PARAPHERNALIA</td>\n",
       "      <td>2018-05-15</td>\n",
       "      <td>Tuesday</td>\n",
       "    </tr>\n",
       "    <tr>\n",
       "      <th>10</th>\n",
       "      <td>10</td>\n",
       "      <td>PROSTITUTION</td>\n",
       "      <td>LOITERING FOR PURPOSE OF PROSTITUTION</td>\n",
       "      <td>2018-05-14</td>\n",
       "      <td>Monday</td>\n",
       "    </tr>\n",
       "    <tr>\n",
       "      <th>13</th>\n",
       "      <td>13</td>\n",
       "      <td>ASSAULT</td>\n",
       "      <td>BATTERY</td>\n",
       "      <td>2018-05-14</td>\n",
       "      <td>Monday</td>\n",
       "    </tr>\n",
       "    <tr>\n",
       "      <th>14</th>\n",
       "      <td>14</td>\n",
       "      <td>Theft</td>\n",
       "      <td>GRAND THEFT FROM LOCKED AUTO</td>\n",
       "      <td>2018-05-14</td>\n",
       "      <td>Monday</td>\n",
       "    </tr>\n",
       "  </tbody>\n",
       "</table>\n",
       "</div>"
      ],
      "text/plain": [
       "    Unnamed: 0       Category                               Descript  \\\n",
       "0            0  VEHICLE THEFT                      STOLEN MOTORCYCLE   \n",
       "7            7  DRUG/NARCOTIC  POSSESSION OF NARCOTICS PARAPHERNALIA   \n",
       "10          10   PROSTITUTION  LOITERING FOR PURPOSE OF PROSTITUTION   \n",
       "13          13        ASSAULT                                BATTERY   \n",
       "14          14          Theft           GRAND THEFT FROM LOCKED AUTO   \n",
       "\n",
       "         Date DayOfWeek  \n",
       "0  2018-05-15   Tuesday  \n",
       "7  2018-05-15   Tuesday  \n",
       "10 2018-05-14    Monday  \n",
       "13 2018-05-14    Monday  \n",
       "14 2018-05-14    Monday  "
      ]
     },
     "execution_count": 6,
     "metadata": {},
     "output_type": "execute_result"
    }
   ],
   "source": [
    "# Passing Categories to be analyzed into a series\n",
    "sf_df_filtered = sf_df[sf_df.Category.isin(['Theft', 'VEHICLE THEFT', 'ASSAULT', 'Drunk/Disorderly', 'DRIVING UNDER THE INFLUENCE', 'DRUG/NARCOTIC',\\\n",
    "                          'PROSTITUTION'])]\n",
    "\n",
    "sf_df_filtered.head()"
   ]
  },
  {
   "cell_type": "code",
   "execution_count": 7,
   "metadata": {},
   "outputs": [
    {
     "data": {
      "text/plain": [
       "Unnamed: 0    1091561\n",
       "Category      1091561\n",
       "Descript      1091561\n",
       "Date          1091561\n",
       "DayOfWeek     1091561\n",
       "dtype: int64"
      ]
     },
     "execution_count": 7,
     "metadata": {},
     "output_type": "execute_result"
    }
   ],
   "source": [
    "sf_df_filtered.count()"
   ]
  },
  {
   "cell_type": "code",
   "execution_count": 8,
   "metadata": {},
   "outputs": [
    {
     "data": {
      "text/html": [
       "<div>\n",
       "<style scoped>\n",
       "    .dataframe tbody tr th:only-of-type {\n",
       "        vertical-align: middle;\n",
       "    }\n",
       "\n",
       "    .dataframe tbody tr th {\n",
       "        vertical-align: top;\n",
       "    }\n",
       "\n",
       "    .dataframe thead th {\n",
       "        text-align: right;\n",
       "    }\n",
       "</style>\n",
       "<table border=\"1\" class=\"dataframe\">\n",
       "  <thead>\n",
       "    <tr style=\"text-align: right;\">\n",
       "      <th></th>\n",
       "      <th>Unnamed: 0</th>\n",
       "      <th>Category</th>\n",
       "      <th>Descript</th>\n",
       "      <th>Date</th>\n",
       "      <th>DayOfWeek</th>\n",
       "    </tr>\n",
       "  </thead>\n",
       "  <tbody>\n",
       "    <tr>\n",
       "      <th>508834</th>\n",
       "      <td>508834</td>\n",
       "      <td>Theft</td>\n",
       "      <td>GRAND THEFT OF PROPERTY</td>\n",
       "      <td>2015-01-01</td>\n",
       "      <td>Thursday</td>\n",
       "    </tr>\n",
       "    <tr>\n",
       "      <th>508835</th>\n",
       "      <td>508835</td>\n",
       "      <td>Theft</td>\n",
       "      <td>GRAND THEFT FROM UNLOCKED AUTO</td>\n",
       "      <td>2015-01-01</td>\n",
       "      <td>Thursday</td>\n",
       "    </tr>\n",
       "    <tr>\n",
       "      <th>508836</th>\n",
       "      <td>508836</td>\n",
       "      <td>Theft</td>\n",
       "      <td>GRAND THEFT FROM LOCKED AUTO</td>\n",
       "      <td>2015-01-01</td>\n",
       "      <td>Thursday</td>\n",
       "    </tr>\n",
       "    <tr>\n",
       "      <th>508845</th>\n",
       "      <td>508845</td>\n",
       "      <td>Theft</td>\n",
       "      <td>GRAND THEFT PURSESNATCH</td>\n",
       "      <td>2015-01-01</td>\n",
       "      <td>Thursday</td>\n",
       "    </tr>\n",
       "    <tr>\n",
       "      <th>508847</th>\n",
       "      <td>508847</td>\n",
       "      <td>VEHICLE THEFT</td>\n",
       "      <td>STOLEN AUTOMOBILE</td>\n",
       "      <td>2015-01-01</td>\n",
       "      <td>Thursday</td>\n",
       "    </tr>\n",
       "  </tbody>\n",
       "</table>\n",
       "</div>"
      ],
      "text/plain": [
       "        Unnamed: 0       Category                        Descript       Date  \\\n",
       "508834      508834          Theft         GRAND THEFT OF PROPERTY 2015-01-01   \n",
       "508835      508835          Theft  GRAND THEFT FROM UNLOCKED AUTO 2015-01-01   \n",
       "508836      508836          Theft    GRAND THEFT FROM LOCKED AUTO 2015-01-01   \n",
       "508845      508845          Theft         GRAND THEFT PURSESNATCH 2015-01-01   \n",
       "508847      508847  VEHICLE THEFT               STOLEN AUTOMOBILE 2015-01-01   \n",
       "\n",
       "       DayOfWeek  \n",
       "508834  Thursday  \n",
       "508835  Thursday  \n",
       "508836  Thursday  \n",
       "508845  Thursday  \n",
       "508847  Thursday  "
      ]
     },
     "execution_count": 8,
     "metadata": {},
     "output_type": "execute_result"
    }
   ],
   "source": [
    "#filtering out all data before January 1, 2015\n",
    "sf_df_date_filter = sf_df_filtered[sf_df_filtered['Date']>=\"01/01/2015\"]\n",
    "sf_df_date_filter.tail()"
   ]
  },
  {
   "cell_type": "code",
   "execution_count": 9,
   "metadata": {},
   "outputs": [
    {
     "data": {
      "text/html": [
       "<div>\n",
       "<style scoped>\n",
       "    .dataframe tbody tr th:only-of-type {\n",
       "        vertical-align: middle;\n",
       "    }\n",
       "\n",
       "    .dataframe tbody tr th {\n",
       "        vertical-align: top;\n",
       "    }\n",
       "\n",
       "    .dataframe thead th {\n",
       "        text-align: right;\n",
       "    }\n",
       "</style>\n",
       "<table border=\"1\" class=\"dataframe\">\n",
       "  <thead>\n",
       "    <tr style=\"text-align: right;\">\n",
       "      <th></th>\n",
       "      <th>Unnamed: 0</th>\n",
       "      <th>Category</th>\n",
       "      <th>Descript</th>\n",
       "      <th>Date</th>\n",
       "      <th>DayOfWeek</th>\n",
       "    </tr>\n",
       "  </thead>\n",
       "  <tbody>\n",
       "    <tr>\n",
       "      <th>508834</th>\n",
       "      <td>508834</td>\n",
       "      <td>Theft</td>\n",
       "      <td>GRAND THEFT OF PROPERTY</td>\n",
       "      <td>2015-01-01</td>\n",
       "      <td>Thursday</td>\n",
       "    </tr>\n",
       "    <tr>\n",
       "      <th>508835</th>\n",
       "      <td>508835</td>\n",
       "      <td>Theft</td>\n",
       "      <td>GRAND THEFT FROM UNLOCKED AUTO</td>\n",
       "      <td>2015-01-01</td>\n",
       "      <td>Thursday</td>\n",
       "    </tr>\n",
       "    <tr>\n",
       "      <th>508836</th>\n",
       "      <td>508836</td>\n",
       "      <td>Theft</td>\n",
       "      <td>GRAND THEFT FROM LOCKED AUTO</td>\n",
       "      <td>2015-01-01</td>\n",
       "      <td>Thursday</td>\n",
       "    </tr>\n",
       "    <tr>\n",
       "      <th>508845</th>\n",
       "      <td>508845</td>\n",
       "      <td>Theft</td>\n",
       "      <td>GRAND THEFT PURSESNATCH</td>\n",
       "      <td>2015-01-01</td>\n",
       "      <td>Thursday</td>\n",
       "    </tr>\n",
       "    <tr>\n",
       "      <th>508847</th>\n",
       "      <td>508847</td>\n",
       "      <td>VEHICLE THEFT</td>\n",
       "      <td>STOLEN AUTOMOBILE</td>\n",
       "      <td>2015-01-01</td>\n",
       "      <td>Thursday</td>\n",
       "    </tr>\n",
       "  </tbody>\n",
       "</table>\n",
       "</div>"
      ],
      "text/plain": [
       "        Unnamed: 0       Category                        Descript       Date  \\\n",
       "508834      508834          Theft         GRAND THEFT OF PROPERTY 2015-01-01   \n",
       "508835      508835          Theft  GRAND THEFT FROM UNLOCKED AUTO 2015-01-01   \n",
       "508836      508836          Theft    GRAND THEFT FROM LOCKED AUTO 2015-01-01   \n",
       "508845      508845          Theft         GRAND THEFT PURSESNATCH 2015-01-01   \n",
       "508847      508847  VEHICLE THEFT               STOLEN AUTOMOBILE 2015-01-01   \n",
       "\n",
       "       DayOfWeek  \n",
       "508834  Thursday  \n",
       "508835  Thursday  \n",
       "508836  Thursday  \n",
       "508845  Thursday  \n",
       "508847  Thursday  "
      ]
     },
     "execution_count": 9,
     "metadata": {},
     "output_type": "execute_result"
    }
   ],
   "source": [
    "#filtering out all data after February 28, 2017\n",
    "sf_df_enddate = sf_df_date_filter[sf_df_date_filter['Date']<=\"02/28/2017\"]\n",
    "sf_df_enddate.tail()"
   ]
  },
  {
   "cell_type": "code",
   "execution_count": 10,
   "metadata": {},
   "outputs": [
    {
     "data": {
      "text/html": [
       "<div>\n",
       "<style scoped>\n",
       "    .dataframe tbody tr th:only-of-type {\n",
       "        vertical-align: middle;\n",
       "    }\n",
       "\n",
       "    .dataframe tbody tr th {\n",
       "        vertical-align: top;\n",
       "    }\n",
       "\n",
       "    .dataframe thead th {\n",
       "        text-align: right;\n",
       "    }\n",
       "</style>\n",
       "<table border=\"1\" class=\"dataframe\">\n",
       "  <thead>\n",
       "    <tr style=\"text-align: right;\">\n",
       "      <th></th>\n",
       "      <th>Unnamed: 0</th>\n",
       "      <th>Category</th>\n",
       "      <th>Descript</th>\n",
       "      <th>Date</th>\n",
       "      <th>DayOfWeek</th>\n",
       "    </tr>\n",
       "  </thead>\n",
       "  <tbody>\n",
       "    <tr>\n",
       "      <th>482441</th>\n",
       "      <td>482441</td>\n",
       "      <td>Drunk/Disorderly</td>\n",
       "      <td>MALICIOUS MISCHIEF, VANDALISM</td>\n",
       "      <td>2015-03-01</td>\n",
       "      <td>Sunday</td>\n",
       "    </tr>\n",
       "    <tr>\n",
       "      <th>482442</th>\n",
       "      <td>482442</td>\n",
       "      <td>ASSAULT</td>\n",
       "      <td>BATTERY</td>\n",
       "      <td>2015-03-01</td>\n",
       "      <td>Sunday</td>\n",
       "    </tr>\n",
       "    <tr>\n",
       "      <th>482446</th>\n",
       "      <td>482446</td>\n",
       "      <td>ASSAULT</td>\n",
       "      <td>AGGRAVATED ASSAULT WITH BODILY FORCE</td>\n",
       "      <td>2015-03-01</td>\n",
       "      <td>Sunday</td>\n",
       "    </tr>\n",
       "    <tr>\n",
       "      <th>482447</th>\n",
       "      <td>482447</td>\n",
       "      <td>ASSAULT</td>\n",
       "      <td>BATTERY WITH SERIOUS INJURIES</td>\n",
       "      <td>2015-03-01</td>\n",
       "      <td>Sunday</td>\n",
       "    </tr>\n",
       "    <tr>\n",
       "      <th>482449</th>\n",
       "      <td>482449</td>\n",
       "      <td>Theft</td>\n",
       "      <td>GRAND THEFT FROM PERSON</td>\n",
       "      <td>2015-03-01</td>\n",
       "      <td>Sunday</td>\n",
       "    </tr>\n",
       "  </tbody>\n",
       "</table>\n",
       "</div>"
      ],
      "text/plain": [
       "        Unnamed: 0          Category                              Descript  \\\n",
       "482441      482441  Drunk/Disorderly         MALICIOUS MISCHIEF, VANDALISM   \n",
       "482442      482442           ASSAULT                               BATTERY   \n",
       "482446      482446           ASSAULT  AGGRAVATED ASSAULT WITH BODILY FORCE   \n",
       "482447      482447           ASSAULT         BATTERY WITH SERIOUS INJURIES   \n",
       "482449      482449             Theft               GRAND THEFT FROM PERSON   \n",
       "\n",
       "             Date DayOfWeek  \n",
       "482441 2015-03-01    Sunday  \n",
       "482442 2015-03-01    Sunday  \n",
       "482446 2015-03-01    Sunday  \n",
       "482447 2015-03-01    Sunday  \n",
       "482449 2015-03-01    Sunday  "
      ]
     },
     "execution_count": 10,
     "metadata": {},
     "output_type": "execute_result"
    }
   ],
   "source": [
    "#Filtering out dates (only Jan-Feb 2015 will remain)\n",
    "\n",
    "sf_df_2015 = sf_df_date_filter[sf_df_date_filter['Date']<=\"03/01/2015\"]\n",
    "sf_df_2015.head()"
   ]
  },
  {
   "cell_type": "code",
   "execution_count": 11,
   "metadata": {},
   "outputs": [
    {
     "data": {
      "text/plain": [
       "Theft                          99\n",
       "ASSAULT                        54\n",
       "Drunk/Disorderly               29\n",
       "DRUG/NARCOTIC                  15\n",
       "VEHICLE THEFT                  13\n",
       "DRIVING UNDER THE INFLUENCE     1\n",
       "Name: Category, dtype: int64"
      ]
     },
     "execution_count": 11,
     "metadata": {},
     "output_type": "execute_result"
    }
   ],
   "source": [
    "#Getting Data Points to graph\n",
    "sf_df_go = sf_df_filtered[sf_df_filtered['Date']==\"02/26/2017\"]\n",
    "sf_df_go['Category'].value_counts()"
   ]
  },
  {
   "cell_type": "code",
   "execution_count": 12,
   "metadata": {},
   "outputs": [],
   "source": [
    "# Plot Graph for January-February 2015\n",
    "# Create lists for 2015 graph\n",
    "\n",
    "x_axis = range(1, 10)\n",
    "theft_incidents = [239, 208, 281, 230, 226, 214, 214, 272, 244] \n",
    "assault_number = [67, 83, 88, 64, 93, 70, 84, 90, 81]\n",
    "drunk_disorder = [35, 46, 44, 51, 59, 41, 46, 36, 63]\n",
    "vehicle_theft_incidents = [26, 39, 38, 50, 40, 29, 37, 43, 36]\n",
    "drug_narc = [21, 21, 30, 11, 16, 18, 8, 22, 37]\n",
    "dui_number = [4, 2, 4, 2, 3, 0, 4, 4, 2]\n",
    "prost_number = [0, 0, 1, 0, 1, 0, 0, 1, 1]\n",
    "    "
   ]
  },
  {
   "cell_type": "code",
   "execution_count": 13,
   "metadata": {},
   "outputs": [
    {
     "data": {
      "image/png": "[encoded data removed]",
      "text/plain": [
       "<Figure size 432x288 with 1 Axes>"
      ]
     },
     "metadata": {
      "needs_background": "light"
     },
     "output_type": "display_data"
    }
   ],
   "source": [
    "#Plot graph for 2015 and apply styling\n",
    "\n",
    "theft, = plt.plot(x_axis, theft_incidents, color=\"red\", label=\"Theft\")\n",
    "assault, = plt.plot(x_axis, assault_number, color=\"blue\", label=\"Assault\")\n",
    "drunk_disorderly, = plt.plot(x_axis, drunk_disorder, color=\"green\", label=\"Drunk/Disorderly\")\n",
    "vehicle_theft, = plt.plot(x_axis, vehicle_theft_incidents, color=\"purple\", label=\"Vehicle Theft\")\n",
    "drug_narcotics, = plt.plot(x_axis, drug_narc, color=\"yellow\", label=\"Drugs/Narcotics\")\n",
    "driving_influence, = plt.plot(x_axis, dui_number, color=\"orange\", label=\"DUI\")\n",
    "prostitution, = plt.plot(x_axis, prost_number, color=\"magenta\", label=\"Prostitution\")\n",
    "\n",
    "#Add labels to graph\n",
    "plt.title(\"San Francisco Crime Snap Shot Jan-Feb 2015\")\n",
    "plt.xlabel(\"First Nine Weekends 2015\")\n",
    "plt.ylabel(\"Number of Incidents\")\n",
    "\n",
    "plt.legend(handles=[theft, assault, drunk_disorderly, vehicle_theft, drug_narcotics, driving_influence, prostitution], loc=\"best\")\n",
    "\n",
    "plt.savefig(\"SanFrancisco2015.png\")"
   ]
  },
  {
   "cell_type": "code",
   "execution_count": 87,
   "metadata": {},
   "outputs": [],
   "source": [
    "# Create Lists for 2016 (Superbowl)\n",
    "\n",
    "x_axis = range(1, 10)\n",
    "theft_incidents = [191, 216, 260, 251, 213, 270, 225, 240, 229] \n",
    "assault_number = [60, 66, 72, 85, 86, 100, 93, 71, 100]\n",
    "drunk_disorder = [43, 62, 58, 50, 53, 75, 43, 57, 36]\n",
    "vehicle_theft_incidents = [35, 30, 40, 27, 32, 40, 32, 49, 38]\n",
    "drug_narc = [27, 25, 10, 23, 16, 15, 20, 28, 25]\n",
    "dui_number = [2, 1, 1, 2, 4, 0, 8, 3, 1]\n",
    "prost_number = [0, 1, 0, 28, 8, 5, 0, 1, 0]"
   ]
  },
  {
   "cell_type": "code",
   "execution_count": 14,
   "metadata": {},
   "outputs": [
    {
     "data": {
      "image/png": "[encoded data removed]",
      "text/plain": [
       "<Figure size 432x288 with 1 Axes>"
      ]
     },
     "metadata": {
      "needs_background": "light"
     },
     "output_type": "display_data"
    }
   ],
   "source": [
    "# Graph for San Francisco 2016 (Superbowl Year)\n",
    "\n",
    "theft, = plt.plot(x_axis, theft_incidents, color=\"red\", label=\"Theft\")\n",
    "assault, = plt.plot(x_axis, assault_number, color=\"blue\", label=\"Assault\")\n",
    "drunk_disorderly, = plt.plot(x_axis, drunk_disorder, color=\"green\", label=\"Drunk/Disorderly\")\n",
    "vehicle_theft, = plt.plot(x_axis, vehicle_theft_incidents, color=\"purple\", label=\"Vehicle Theft\")\n",
    "drug_narcotics, = plt.plot(x_axis, drug_narc, color=\"yellow\", label=\"Drugs/Narcotics\")\n",
    "driving_influence, = plt.plot(x_axis, dui_number, color=\"orange\", label=\"DUI\")\n",
    "prostitution, = plt.plot(x_axis, prost_number, color=\"magenta\", label=\"Prostitution\")\n",
    "\n",
    "#Add labels to graph\n",
    "plt.title(\"San Francisco Crime Snap Shot Jan-Feb 2016 (Superbowl Year)\")\n",
    "plt.xlabel(\"First Nine Weekends 2016\")\n",
    "plt.ylabel(\"Number of Incidents\")\n",
    "\n",
    "plt.legend(handles=[theft, assault, drunk_disorderly, vehicle_theft, drug_narcotics, driving_influence, prostitution], loc=\"best\")\n",
    "\n",
    "plt.savefig(\"SanFranSuperBowl2016.png\")"
   ]
  },
  {
   "cell_type": "code",
   "execution_count": 89,
   "metadata": {},
   "outputs": [],
   "source": [
    "# Create Lists for San Francisco 2017\n",
    "\n",
    "x_axis = range(1, 10)\n",
    "theft_incidents = [267, 254, 266, 292, 307, 242, 261, 314, 246] \n",
    "assault_number = [100, 72, 82, 72, 71, 94, 84, 68, 91]\n",
    "drunk_disorder = [70, 64, 63, 83, 51, 67, 68, 73, 57]\n",
    "vehicle_theft_incidents = [30, 22, 30, 36, 47, 40, 44, 45, 41]\n",
    "drug_narc = [12, 16, 30, 20, 21, 16, 10, 10, 23]\n",
    "dui_number = [5, 3, 2, 4, 8, 3, 1, 6, 4]\n",
    "prost_number = [0, 0, 0, 0, 0, 0, 2, 0, 0]"
   ]
  },
  {
   "cell_type": "code",
   "execution_count": 15,
   "metadata": {},
   "outputs": [
    {
     "data": {
      "image/png": "[encoded data removed]",
      "text/plain": [
       "<Figure size 432x288 with 1 Axes>"
      ]
     },
     "metadata": {
      "needs_background": "light"
     },
     "output_type": "display_data"
    }
   ],
   "source": [
    "# Graph for San Francisco 2017\n",
    "\n",
    "theft, = plt.plot(x_axis, theft_incidents, color=\"red\", label=\"Theft\")\n",
    "assault, = plt.plot(x_axis, assault_number, color=\"blue\", label=\"Assault\")\n",
    "drunk_disorderly, = plt.plot(x_axis, drunk_disorder, color=\"green\", label=\"Drunk/Disorderly\")\n",
    "vehicle_theft, = plt.plot(x_axis, vehicle_theft_incidents, color=\"purple\", label=\"Vehicle Theft\")\n",
    "drug_narcotics, = plt.plot(x_axis, drug_narc, color=\"yellow\", label=\"Drugs/Narcotics\")\n",
    "driving_influence, = plt.plot(x_axis, dui_number, color=\"orange\", label=\"DUI\")\n",
    "prostitution, = plt.plot(x_axis, prost_number, color=\"magenta\", label=\"Prostitution\")\n",
    "\n",
    "#Add labels to graph\n",
    "plt.title(\"San Francisco Crime Snap Shot Jan-Feb 2017\")\n",
    "plt.xlabel(\"First Nine Weekends 2017\")\n",
    "plt.ylabel(\"Number of Incidents\")\n",
    "\n",
    "plt.legend(handles=[theft, assault, drunk_disorderly, vehicle_theft, drug_narcotics, driving_influence, prostitution], loc=\"best\")\n",
    "\n",
    "plt.savefig(\"SanFrancisco2017.png\")\n"
   ]
  },
  {
   "cell_type": "code",
   "execution_count": null,
   "metadata": {},
   "outputs": [],
   "source": []
  }
 ],
 "metadata": {
  "kernelspec": {
   "display_name": "Python 3",
   "language": "python",
   "name": "python3"
  },
  "language_info": {
   "codemirror_mode": {
    "name": "ipython",
    "version": 3
   },
   "file_extension": ".py",
   "mimetype": "text/x-python",
   "name": "python",
   "nbconvert_exporter": "python",
   "pygments_lexer": "ipython3",
   "version": "3.7.3"
  }
 },
 "nbformat": 4,
 "nbformat_minor": 2
}
