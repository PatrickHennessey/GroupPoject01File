{
 "cells": [
  {
   "cell_type": "code",
   "execution_count": 2,
   "metadata": {},
   "outputs": [],
   "source": [
    "import os\n",
    "import json\n",
    "import csv\n",
    "import glob\n",
    "import datetime\n",
    "import requests\n",
    "import numpy as np\n",
    "import pandas as pd\n",
    "from os import listdir\n",
    "import matplotlib.pyplot as plt"
   ]
  },
  {
   "cell_type": "code",
   "execution_count": 9,
   "metadata": {
    "scrolled": false
   },
   "outputs": [
    {
     "name": "stderr",
     "output_type": "stream",
     "text": [
      "C:\\Users\\patri\\Anaconda3\\lib\\site-packages\\ipykernel_launcher.py:6: DtypeWarning: Columns (11) have mixed types. Specify dtype option on import or set low_memory=False.\n",
      "  \n"
     ]
    }
   ],
   "source": [
    "### Atlanta Pre-Work ###\n",
    "# Combine the multiple file for Atlanta into one CSV\n",
    "path = r'C:\\Users\\patri\\Google Drive\\Group Project\\GroupPoject01Files\\patrick_stuff\\atl'\n",
    "all_files = glob.glob(os.path.join(path, \"*.csv\"))\n",
    "df_from_each_file = (pd.read_csv(f) for f in all_files)\n",
    "atl_complete_df = pd.concat(df_from_each_file, ignore_index=True, sort=True)\n",
    "\n",
    "# Changing time format and capitalization of UCR\n",
    "atl_complete_df[['Year', 'Month', 'Day']] = atl_complete_df['Report Date'].astype(str).str.split(\"-\",expand=True,)\n",
    "atl_complete_df = atl_complete_df.apply(lambda x: x.str.title() if x.dtype == \"object\" else x) \n",
    "\n",
    "# Shape the combined CSV into a more manageable DataFrame\n",
    "atl_sorted_df = atl_complete_df.loc[:, [\"UCR Literal\", \"UCR #\", \"Month\", \"Day\", \"Year\", \"Latitude\", \"Longitude\"]]\n",
    "\n",
    "# Rename a few things\n",
    "atl_df = atl_sorted_df.rename(columns={\"UCR Literal\" : \"Crime\", \"UCR #\" : \"UCR Code\"})"
   ]
  },
  {
   "cell_type": "code",
   "execution_count": 22,
   "metadata": {},
   "outputs": [
    {
     "data": {
      "text/html": [
       "<div>\n",
       "<style scoped>\n",
       "    .dataframe tbody tr th:only-of-type {\n",
       "        vertical-align: middle;\n",
       "    }\n",
       "\n",
       "    .dataframe tbody tr th {\n",
       "        vertical-align: top;\n",
       "    }\n",
       "\n",
       "    .dataframe thead th {\n",
       "        text-align: right;\n",
       "    }\n",
       "</style>\n",
       "<table border=\"1\" class=\"dataframe\">\n",
       "  <thead>\n",
       "    <tr style=\"text-align: right;\">\n",
       "      <th></th>\n",
       "      <th>Crime</th>\n",
       "      <th>UCR Code</th>\n",
       "      <th>Month</th>\n",
       "      <th>Day</th>\n",
       "      <th>Year</th>\n",
       "      <th>Latitude</th>\n",
       "      <th>Longitude</th>\n",
       "    </tr>\n",
       "  </thead>\n",
       "  <tbody>\n",
       "    <tr>\n",
       "      <th>0</th>\n",
       "      <td>Larceny-Non Vehicle</td>\n",
       "      <td>630</td>\n",
       "      <td>01</td>\n",
       "      <td>01</td>\n",
       "      <td>2009</td>\n",
       "      <td>33.68845</td>\n",
       "      <td>-84.49328</td>\n",
       "    </tr>\n",
       "    <tr>\n",
       "      <th>1</th>\n",
       "      <td>Larceny-Non Vehicle</td>\n",
       "      <td>630</td>\n",
       "      <td>01</td>\n",
       "      <td>01</td>\n",
       "      <td>2009</td>\n",
       "      <td>33.75320</td>\n",
       "      <td>-84.39201</td>\n",
       "    </tr>\n",
       "    <tr>\n",
       "      <th>2</th>\n",
       "      <td>Larceny-Non Vehicle</td>\n",
       "      <td>630</td>\n",
       "      <td>01</td>\n",
       "      <td>01</td>\n",
       "      <td>2009</td>\n",
       "      <td>33.75735</td>\n",
       "      <td>-84.50282</td>\n",
       "    </tr>\n",
       "    <tr>\n",
       "      <th>3</th>\n",
       "      <td>Larceny-Non Vehicle</td>\n",
       "      <td>630</td>\n",
       "      <td>01</td>\n",
       "      <td>01</td>\n",
       "      <td>2009</td>\n",
       "      <td>33.84676</td>\n",
       "      <td>-84.36212</td>\n",
       "    </tr>\n",
       "    <tr>\n",
       "      <th>4</th>\n",
       "      <td>Larceny-Non Vehicle</td>\n",
       "      <td>630</td>\n",
       "      <td>01</td>\n",
       "      <td>01</td>\n",
       "      <td>2009</td>\n",
       "      <td>33.68677</td>\n",
       "      <td>-84.49773</td>\n",
       "    </tr>\n",
       "  </tbody>\n",
       "</table>\n",
       "</div>"
      ],
      "text/plain": [
       "                 Crime  UCR Code Month Day  Year  Latitude  Longitude\n",
       "0  Larceny-Non Vehicle       630    01  01  2009  33.68845  -84.49328\n",
       "1  Larceny-Non Vehicle       630    01  01  2009  33.75320  -84.39201\n",
       "2  Larceny-Non Vehicle       630    01  01  2009  33.75735  -84.50282\n",
       "3  Larceny-Non Vehicle       630    01  01  2009  33.84676  -84.36212\n",
       "4  Larceny-Non Vehicle       630    01  01  2009  33.68677  -84.49773"
      ]
     },
     "execution_count": 22,
     "metadata": {},
     "output_type": "execute_result"
    }
   ],
   "source": [
    "# atl_df.to_csv(\"patrick_stuff/atl.csv\", index=False)\n",
    "# mn_df.to_csv(\"patrick_stuff/mn.csv\", index=False)\n",
    "atl_df.head()"
   ]
  },
  {
   "cell_type": "code",
   "execution_count": 28,
   "metadata": {},
   "outputs": [
    {
     "data": {
      "text/plain": [
       "Larceny-From Vehicle    101948\n",
       "Larceny-Non Vehicle      79631\n",
       "Burglary-Residence       48927\n",
       "Auto Theft               46078\n",
       "Agg Assault              24374\n",
       "Robbery-Pedestrian       16927\n",
       "Burglary-Nonres          10697\n",
       "Robbery-Commercial        2263\n",
       "Robbery-Residence         2194\n",
       "Homicide                   947\n",
       "Manslaughter                17\n",
       "Name: Crime, dtype: int64"
      ]
     },
     "execution_count": 28,
     "metadata": {},
     "output_type": "execute_result"
    }
   ],
   "source": [
    "atl_backup_df = atl_df\n",
    "atl_df.Crime.value_counts()"
   ]
  },
  {
   "cell_type": "code",
   "execution_count": 124,
   "metadata": {},
   "outputs": [
    {
     "data": {
      "text/plain": [
       "Theft                 181579\n",
       "Burglary               59624\n",
       "Grand Theft Auto       46078\n",
       "Aggrivated Assault     24374\n",
       "Robbery                21384\n",
       "Homicide                 947\n",
       "Manslaughter              17\n",
       "Name: Crime, dtype: int64"
      ]
     },
     "execution_count": 124,
     "metadata": {},
     "output_type": "execute_result"
    }
   ],
   "source": [
    "atl_combined_crime = atl_df.replace({\n",
    "    \"Larceny-From Vehicle\" : \"Theft\",\n",
    "    \"Larceny-Non Vehicle\" : \"Theft\",\n",
    "    \"Burglary-Residence\": \"Burglary\",\n",
    "    \"Burglary-Nonres\": \"Burglary\",\n",
    "    \"Robbery-Pedestrian\" : \"Robbery\",\n",
    "    \"Robbery-Commercial\" : \"Robbery\",\n",
    "    \"Robbery-Residence\" : \"Robbery\",\n",
    "    \"Agg Assault\" : \"Aggrivated Assault\",\n",
    "    \"Auto Theft\" : \"Grand Theft Auto\"})\n",
    "atl_combined_crime.Crime.value_counts()\n",
    "atl_df = atl_combined_crime\n",
    "atl_df.Crime.value_counts()"
   ]
  },
  {
   "cell_type": "code",
   "execution_count": 94,
   "metadata": {},
   "outputs": [],
   "source": [
    "atl_short_df = atl_df.loc[:,[\"Crime\", \"Year\"]]"
   ]
  },
  {
   "cell_type": "code",
   "execution_count": 95,
   "metadata": {},
   "outputs": [
    {
     "data": {
      "text/html": [
       "<style  type=\"text/css\" >\n",
       "</style><table id=\"T_c99319ac_d38d_11e9_905a_7c7635bc15e1\" ><thead>    <tr>        <th class=\"blank level0\" ></th>        <th class=\"col_heading level0 col0\" >Theft</th>        <th class=\"col_heading level0 col1\" >Burglary</th>        <th class=\"col_heading level0 col2\" >Grand Theft Auto</th>        <th class=\"col_heading level0 col3\" >Robbery</th>        <th class=\"col_heading level0 col4\" >Aggrivated Assault</th>        <th class=\"col_heading level0 col5\" >Homicide</th>        <th class=\"col_heading level0 col6\" >Manslaughter</th>    </tr></thead><tbody>\n",
       "                <tr>\n",
       "                        <th id=\"T_c99319ac_d38d_11e9_905a_7c7635bc15e1level0_row0\" class=\"row_heading level0 row0\" >2009</th>\n",
       "                        <td id=\"T_c99319ac_d38d_11e9_905a_7c7635bc15e1row0_col0\" class=\"data row0 col0\" >19,288</td>\n",
       "                        <td id=\"T_c99319ac_d38d_11e9_905a_7c7635bc15e1row0_col1\" class=\"data row0 col1\" >9,083</td>\n",
       "                        <td id=\"T_c99319ac_d38d_11e9_905a_7c7635bc15e1row0_col2\" class=\"data row0 col2\" >5,647</td>\n",
       "                        <td id=\"T_c99319ac_d38d_11e9_905a_7c7635bc15e1row0_col3\" class=\"data row0 col3\" >2,683</td>\n",
       "                        <td id=\"T_c99319ac_d38d_11e9_905a_7c7635bc15e1row0_col4\" class=\"data row0 col4\" >2,616</td>\n",
       "                        <td id=\"T_c99319ac_d38d_11e9_905a_7c7635bc15e1row0_col5\" class=\"data row0 col5\" >78</td>\n",
       "                        <td id=\"T_c99319ac_d38d_11e9_905a_7c7635bc15e1row0_col6\" class=\"data row0 col6\" >1.0</td>\n",
       "            </tr>\n",
       "            <tr>\n",
       "                        <th id=\"T_c99319ac_d38d_11e9_905a_7c7635bc15e1level0_row1\" class=\"row_heading level0 row1\" >2010</th>\n",
       "                        <td id=\"T_c99319ac_d38d_11e9_905a_7c7635bc15e1row1_col0\" class=\"data row1 col0\" >17,674</td>\n",
       "                        <td id=\"T_c99319ac_d38d_11e9_905a_7c7635bc15e1row1_col1\" class=\"data row1 col1\" >7,994</td>\n",
       "                        <td id=\"T_c99319ac_d38d_11e9_905a_7c7635bc15e1row1_col2\" class=\"data row1 col2\" >4,975</td>\n",
       "                        <td id=\"T_c99319ac_d38d_11e9_905a_7c7635bc15e1row1_col3\" class=\"data row1 col3\" >2,158</td>\n",
       "                        <td id=\"T_c99319ac_d38d_11e9_905a_7c7635bc15e1row1_col4\" class=\"data row1 col4\" >2,610</td>\n",
       "                        <td id=\"T_c99319ac_d38d_11e9_905a_7c7635bc15e1row1_col5\" class=\"data row1 col5\" >89</td>\n",
       "                        <td id=\"T_c99319ac_d38d_11e9_905a_7c7635bc15e1row1_col6\" class=\"data row1 col6\" >2.0</td>\n",
       "            </tr>\n",
       "            <tr>\n",
       "                        <th id=\"T_c99319ac_d38d_11e9_905a_7c7635bc15e1level0_row2\" class=\"row_heading level0 row2\" >2011</th>\n",
       "                        <td id=\"T_c99319ac_d38d_11e9_905a_7c7635bc15e1row2_col0\" class=\"data row2 col0\" >17,323</td>\n",
       "                        <td id=\"T_c99319ac_d38d_11e9_905a_7c7635bc15e1row2_col1\" class=\"data row2 col1\" >7,396</td>\n",
       "                        <td id=\"T_c99319ac_d38d_11e9_905a_7c7635bc15e1row2_col2\" class=\"data row2 col2\" >5,219</td>\n",
       "                        <td id=\"T_c99319ac_d38d_11e9_905a_7c7635bc15e1row2_col3\" class=\"data row2 col3\" >2,313</td>\n",
       "                        <td id=\"T_c99319ac_d38d_11e9_905a_7c7635bc15e1row2_col4\" class=\"data row2 col4\" >2,536</td>\n",
       "                        <td id=\"T_c99319ac_d38d_11e9_905a_7c7635bc15e1row2_col5\" class=\"data row2 col5\" >84</td>\n",
       "                        <td id=\"T_c99319ac_d38d_11e9_905a_7c7635bc15e1row2_col6\" class=\"data row2 col6\" >4.0</td>\n",
       "            </tr>\n",
       "            <tr>\n",
       "                        <th id=\"T_c99319ac_d38d_11e9_905a_7c7635bc15e1level0_row3\" class=\"row_heading level0 row3\" >2012</th>\n",
       "                        <td id=\"T_c99319ac_d38d_11e9_905a_7c7635bc15e1row3_col0\" class=\"data row3 col0\" >17,286</td>\n",
       "                        <td id=\"T_c99319ac_d38d_11e9_905a_7c7635bc15e1row3_col1\" class=\"data row3 col1\" >6,157</td>\n",
       "                        <td id=\"T_c99319ac_d38d_11e9_905a_7c7635bc15e1row3_col2\" class=\"data row3 col2\" >5,098</td>\n",
       "                        <td id=\"T_c99319ac_d38d_11e9_905a_7c7635bc15e1row3_col3\" class=\"data row3 col3\" >2,262</td>\n",
       "                        <td id=\"T_c99319ac_d38d_11e9_905a_7c7635bc15e1row3_col4\" class=\"data row3 col4\" >2,520</td>\n",
       "                        <td id=\"T_c99319ac_d38d_11e9_905a_7c7635bc15e1row3_col5\" class=\"data row3 col5\" >82</td>\n",
       "                        <td id=\"T_c99319ac_d38d_11e9_905a_7c7635bc15e1row3_col6\" class=\"data row3 col6\" >3.0</td>\n",
       "            </tr>\n",
       "            <tr>\n",
       "                        <th id=\"T_c99319ac_d38d_11e9_905a_7c7635bc15e1level0_row4\" class=\"row_heading level0 row4\" >2013</th>\n",
       "                        <td id=\"T_c99319ac_d38d_11e9_905a_7c7635bc15e1row4_col0\" class=\"data row4 col0\" >17,270</td>\n",
       "                        <td id=\"T_c99319ac_d38d_11e9_905a_7c7635bc15e1row4_col1\" class=\"data row4 col1\" >5,962</td>\n",
       "                        <td id=\"T_c99319ac_d38d_11e9_905a_7c7635bc15e1row4_col2\" class=\"data row4 col2\" >4,483</td>\n",
       "                        <td id=\"T_c99319ac_d38d_11e9_905a_7c7635bc15e1row4_col3\" class=\"data row4 col3\" >2,368</td>\n",
       "                        <td id=\"T_c99319ac_d38d_11e9_905a_7c7635bc15e1row4_col4\" class=\"data row4 col4\" >2,275</td>\n",
       "                        <td id=\"T_c99319ac_d38d_11e9_905a_7c7635bc15e1row4_col5\" class=\"data row4 col5\" >81</td>\n",
       "                        <td id=\"T_c99319ac_d38d_11e9_905a_7c7635bc15e1row4_col6\" class=\"data row4 col6\" >1.0</td>\n",
       "            </tr>\n",
       "            <tr>\n",
       "                        <th id=\"T_c99319ac_d38d_11e9_905a_7c7635bc15e1level0_row5\" class=\"row_heading level0 row5\" >2014</th>\n",
       "                        <td id=\"T_c99319ac_d38d_11e9_905a_7c7635bc15e1row5_col0\" class=\"data row5 col0\" >16,813</td>\n",
       "                        <td id=\"T_c99319ac_d38d_11e9_905a_7c7635bc15e1row5_col1\" class=\"data row5 col1\" >5,490</td>\n",
       "                        <td id=\"T_c99319ac_d38d_11e9_905a_7c7635bc15e1row5_col2\" class=\"data row5 col2\" >4,133</td>\n",
       "                        <td id=\"T_c99319ac_d38d_11e9_905a_7c7635bc15e1row5_col3\" class=\"data row5 col3\" >2,368</td>\n",
       "                        <td id=\"T_c99319ac_d38d_11e9_905a_7c7635bc15e1row5_col4\" class=\"data row5 col4\" >2,240</td>\n",
       "                        <td id=\"T_c99319ac_d38d_11e9_905a_7c7635bc15e1row5_col5\" class=\"data row5 col5\" >88</td>\n",
       "                        <td id=\"T_c99319ac_d38d_11e9_905a_7c7635bc15e1row5_col6\" class=\"data row5 col6\" >1.0</td>\n",
       "            </tr>\n",
       "            <tr>\n",
       "                        <th id=\"T_c99319ac_d38d_11e9_905a_7c7635bc15e1level0_row6\" class=\"row_heading level0 row6\" >2015</th>\n",
       "                        <td id=\"T_c99319ac_d38d_11e9_905a_7c7635bc15e1row6_col0\" class=\"data row6 col0\" >16,643</td>\n",
       "                        <td id=\"T_c99319ac_d38d_11e9_905a_7c7635bc15e1row6_col1\" class=\"data row6 col1\" >4,791</td>\n",
       "                        <td id=\"T_c99319ac_d38d_11e9_905a_7c7635bc15e1row6_col2\" class=\"data row6 col2\" >4,250</td>\n",
       "                        <td id=\"T_c99319ac_d38d_11e9_905a_7c7635bc15e1row6_col3\" class=\"data row6 col3\" >2,159</td>\n",
       "                        <td id=\"T_c99319ac_d38d_11e9_905a_7c7635bc15e1row6_col4\" class=\"data row6 col4\" >2,157</td>\n",
       "                        <td id=\"T_c99319ac_d38d_11e9_905a_7c7635bc15e1row6_col5\" class=\"data row6 col5\" >87</td>\n",
       "                        <td id=\"T_c99319ac_d38d_11e9_905a_7c7635bc15e1row6_col6\" class=\"data row6 col6\" >2.0</td>\n",
       "            </tr>\n",
       "            <tr>\n",
       "                        <th id=\"T_c99319ac_d38d_11e9_905a_7c7635bc15e1level0_row7\" class=\"row_heading level0 row7\" >2016</th>\n",
       "                        <td id=\"T_c99319ac_d38d_11e9_905a_7c7635bc15e1row7_col0\" class=\"data row7 col0\" >16,550</td>\n",
       "                        <td id=\"T_c99319ac_d38d_11e9_905a_7c7635bc15e1row7_col1\" class=\"data row7 col1\" >4,397</td>\n",
       "                        <td id=\"T_c99319ac_d38d_11e9_905a_7c7635bc15e1row7_col2\" class=\"data row7 col2\" >3,848</td>\n",
       "                        <td id=\"T_c99319ac_d38d_11e9_905a_7c7635bc15e1row7_col3\" class=\"data row7 col3\" >1,916</td>\n",
       "                        <td id=\"T_c99319ac_d38d_11e9_905a_7c7635bc15e1row7_col4\" class=\"data row7 col4\" >2,196</td>\n",
       "                        <td id=\"T_c99319ac_d38d_11e9_905a_7c7635bc15e1row7_col5\" class=\"data row7 col5\" >115</td>\n",
       "                        <td id=\"T_c99319ac_d38d_11e9_905a_7c7635bc15e1row7_col6\" class=\"data row7 col6\" >0.0</td>\n",
       "            </tr>\n",
       "            <tr>\n",
       "                        <th id=\"T_c99319ac_d38d_11e9_905a_7c7635bc15e1level0_row8\" class=\"row_heading level0 row8\" >2017</th>\n",
       "                        <td id=\"T_c99319ac_d38d_11e9_905a_7c7635bc15e1row8_col0\" class=\"data row8 col0\" >16,274</td>\n",
       "                        <td id=\"T_c99319ac_d38d_11e9_905a_7c7635bc15e1row8_col1\" class=\"data row8 col1\" >3,398</td>\n",
       "                        <td id=\"T_c99319ac_d38d_11e9_905a_7c7635bc15e1row8_col2\" class=\"data row8 col2\" >3,202</td>\n",
       "                        <td id=\"T_c99319ac_d38d_11e9_905a_7c7635bc15e1row8_col3\" class=\"data row8 col3\" >1,417</td>\n",
       "                        <td id=\"T_c99319ac_d38d_11e9_905a_7c7635bc15e1row8_col4\" class=\"data row8 col4\" >2,035</td>\n",
       "                        <td id=\"T_c99319ac_d38d_11e9_905a_7c7635bc15e1row8_col5\" class=\"data row8 col5\" >84</td>\n",
       "                        <td id=\"T_c99319ac_d38d_11e9_905a_7c7635bc15e1row8_col6\" class=\"data row8 col6\" >1.0</td>\n",
       "            </tr>\n",
       "            <tr>\n",
       "                        <th id=\"T_c99319ac_d38d_11e9_905a_7c7635bc15e1level0_row9\" class=\"row_heading level0 row9\" >2018</th>\n",
       "                        <td id=\"T_c99319ac_d38d_11e9_905a_7c7635bc15e1row9_col0\" class=\"data row9 col0\" >16,421</td>\n",
       "                        <td id=\"T_c99319ac_d38d_11e9_905a_7c7635bc15e1row9_col1\" class=\"data row9 col1\" >3,019</td>\n",
       "                        <td id=\"T_c99319ac_d38d_11e9_905a_7c7635bc15e1row9_col2\" class=\"data row9 col2\" >3,222</td>\n",
       "                        <td id=\"T_c99319ac_d38d_11e9_905a_7c7635bc15e1row9_col3\" class=\"data row9 col3\" >1,051</td>\n",
       "                        <td id=\"T_c99319ac_d38d_11e9_905a_7c7635bc15e1row9_col4\" class=\"data row9 col4\" >1,824</td>\n",
       "                        <td id=\"T_c99319ac_d38d_11e9_905a_7c7635bc15e1row9_col5\" class=\"data row9 col5\" >90</td>\n",
       "                        <td id=\"T_c99319ac_d38d_11e9_905a_7c7635bc15e1row9_col6\" class=\"data row9 col6\" >1.0</td>\n",
       "            </tr>\n",
       "            <tr>\n",
       "                        <th id=\"T_c99319ac_d38d_11e9_905a_7c7635bc15e1level0_row10\" class=\"row_heading level0 row10\" >2019</th>\n",
       "                        <td id=\"T_c99319ac_d38d_11e9_905a_7c7635bc15e1row10_col0\" class=\"data row10 col0\" >10,037</td>\n",
       "                        <td id=\"T_c99319ac_d38d_11e9_905a_7c7635bc15e1row10_col1\" class=\"data row10 col1\" >1,937</td>\n",
       "                        <td id=\"T_c99319ac_d38d_11e9_905a_7c7635bc15e1row10_col2\" class=\"data row10 col2\" >2,001</td>\n",
       "                        <td id=\"T_c99319ac_d38d_11e9_905a_7c7635bc15e1row10_col3\" class=\"data row10 col3\" >689</td>\n",
       "                        <td id=\"T_c99319ac_d38d_11e9_905a_7c7635bc15e1row10_col4\" class=\"data row10 col4\" >1,365</td>\n",
       "                        <td id=\"T_c99319ac_d38d_11e9_905a_7c7635bc15e1row10_col5\" class=\"data row10 col5\" >69</td>\n",
       "                        <td id=\"T_c99319ac_d38d_11e9_905a_7c7635bc15e1row10_col6\" class=\"data row10 col6\" >1.0</td>\n",
       "            </tr>\n",
       "    </tbody></table>"
      ],
      "text/plain": [
       "<pandas.io.formats.style.Styler at 0x19a8dc12400>"
      ]
     },
     "execution_count": 95,
     "metadata": {},
     "output_type": "execute_result"
    }
   ],
   "source": [
    "\n",
    "atl_years = atl_short_df['Year'].unique()\n",
    "atl_theft = atl_short_df[atl_short_df['Crime'] == 'Theft'].groupby('Year')['Crime'].count()\n",
    "atl_burglary = atl_short_df[atl_short_df['Crime'] == 'Burglary'].groupby('Year')['Crime'].count()\n",
    "atl_auto = atl_short_df[atl_short_df['Crime'] == 'Grand Theft Auto'].groupby('Year')['Crime'].count()\n",
    "atl_robbery = atl_short_df[atl_short_df['Crime'] == 'Robbery'].groupby('Year')['Crime'].count()\n",
    "atl_aassault = atl_short_df[atl_short_df['Crime'] == 'Aggrivated Assault'].groupby('Year')['Crime'].count()\n",
    "atl_homicide = atl_short_df[atl_short_df['Crime'] == 'Homicide'].groupby('Year')['Crime'].count()\n",
    "atl_manslaughter = atl_short_df[atl_short_df['Crime'] == 'Manslaughter'].groupby('Year')['Crime'].count()\n",
    "\n",
    "atl_crime_df = pd.DataFrame({\n",
    "    \"Theft\" : atl_theft,\n",
    "    \"Burglary\" : atl_burglary,\n",
    "    \"Grand Theft Auto\" : atl_auto,\n",
    "    \"Robbery\" : atl_robbery,\n",
    "    \"Aggrivated Assault\" : atl_aassault,\n",
    "    \"Homicide\" : atl_homicide,\n",
    "    \"Manslaughter\" : atl_manslaughter\n",
    "})\n",
    "\n",
    "atl_crime_df.fillna(0).style.format(\"{:,}\")"
   ]
  },
  {
   "cell_type": "code",
   "execution_count": 155,
   "metadata": {},
   "outputs": [],
   "source": [
    "# x_axis = atl_years\n",
    "# theft_incidents = atl_theft \n",
    "# burglary_incidents = atl_burglary\n",
    "# auto_incidents = atl_auto\n",
    "# robbery_incidents = atl_robbery\n",
    "# assault_incidents = atl_aassault\n",
    "# homicide_incidents = atl_homicide"
   ]
  },
  {
   "cell_type": "code",
   "execution_count": 156,
   "metadata": {},
   "outputs": [
    {
     "data": {
      "text/plain": [
       "<matplotlib.legend.Legend at 0x19a8cb3b128>"
      ]
     },
     "execution_count": 156,
     "metadata": {},
     "output_type": "execute_result"
    },
    {
     "data": {
      "image/png": "[encoded data removed]",
      "text/plain": [
       "<Figure size 432x288 with 1 Axes>"
      ]
     },
     "metadata": {
      "needs_background": "light"
     },
     "output_type": "display_data"
    }
   ],
   "source": [
    "# Atlanta by year graph\n",
    "x_axis = atl_years\n",
    "theft, = plt.plot(x_axis, atl_theft , color=\"red\", label=\"Theft\")\n",
    "burglary, = plt.plot(x_axis, atl_burglary, color=\"blue\", label=\"Burglary\")\n",
    "auto, = plt.plot(x_axis, atl_auto, color=\"green\", label=\"Grand Theft Auto\")\n",
    "robbery, = plt.plot(x_axis, atl_robbery, color=\"purple\", label=\"Robbery\")\n",
    "assault, = plt.plot(x_axis, atl_aassault, color=\"yellow\", label=\"Aggrivated Assault\")\n",
    "homicide, = plt.plot(x_axis, atl_homicide, color=\"magenta\", label=\"Homicide\")\n",
    "\n",
    "#Add labels to graph\n",
    "plt.title(\"Atlanta Crime Rates | 2009 - 2019\")\n",
    "plt.xlabel(\"Years\")\n",
    "plt.ylabel(\"Number of Incidents\")\n",
    "\n",
    "plt.legend(handles=[theft, burglary, auto, robbery, assault, homicide], loc=\"best\")"
   ]
  },
  {
   "cell_type": "code",
   "execution_count": 159,
   "metadata": {},
   "outputs": [],
   "source": [
    "### Minneapolis Work ###\n",
    "# Combine the multiple file for Atlanta into one CSV\n",
    "path = r'C:\\Users\\patri\\Google Drive\\Group Project\\GroupPoject01Files\\patrick_stuff\\mn'\n",
    "all_files = glob.glob(os.path.join(path, \"*.csv\"))\n",
    "df_from_each_file = (pd.read_csv(f) for f in all_files)\n",
    "mn_complete_df = pd.concat(df_from_each_file, ignore_index=True, sort=True)\n",
    "\n",
    "# Shape the combined CSV into a more manageable DataFrame\n",
    "mn_complete_df[['Year', 'Month', 'Day']] = mn_complete_df['ReportedDate'].astype(str).str.split(\"-\",expand=True,)\n",
    "mn_complete_df['Day'] = mn_complete_df['Day'].str.split('T').str[0]\n",
    "\n",
    "# Shape the combined CSV into a more manageable DataFrame\n",
    "mn_sorted_df = mn_complete_df.loc[:, [\"Description\", \"UCRCode\", \"Month\", \"Day\", \"Year\", \"X\", \"Y\"]]\n",
    "\n",
    "# Rename a few things\n",
    "mn_df = mn_sorted_df.rename(columns={\"Description\" : \"Crime\", \"UCRCode\" : \"UCR Code\", \"X\" : \"Latitude\", \"Y\" : \"Longitude\"})"
   ]
  },
  {
   "cell_type": "code",
   "execution_count": 160,
   "metadata": {},
   "outputs": [
    {
     "data": {
      "text/plain": [
       "Other Theft                       43460\n",
       "Theft From Motr Vehc              26122\n",
       "Burglary Of Dwelling              25993\n",
       "Motor Vehicle Theft               12703\n",
       "Shoplifting                        6406\n",
       "Robbery Per Agg                    6069\n",
       "Robbery Of Person                  5254\n",
       "Burglary Of Business               5129\n",
       "Asslt W/dngrs Weapon               4556\n",
       "Bike Theft                         4494\n",
       "Theft From Person                  2635\n",
       "Crim Sex Cond-rape                 2079\n",
       "Domestic Assault/Strangulation     1945\n",
       "2nd Deg Domes Aslt                 1779\n",
       "Theft By Swindle                   1644\n",
       "Aslt-sgnfcnt Bdly Hm               1342\n",
       "Robbery Of Business                 846\n",
       "Theft-motr Veh Parts                823\n",
       "Arson                               820\n",
       "Aslt-police/emerg P                 714\n",
       "Theft From Building                 656\n",
       "3rd Deg Domes Aslt                  466\n",
       "Murder (general)                    184\n",
       "Aslt-great Bodily Hm                158\n",
       "Other Vehicle Theft                 150\n",
       "Gas Station Driv-off                 91\n",
       "Scrapping-Recycling Theft            62\n",
       "Theft/coinop Device                  52\n",
       "Theft By Computer                    29\n",
       "1st Deg Domes Asslt                  20\n",
       "Pocket-picking                       17\n",
       "On-line Theft                        15\n",
       "Disarm a Police Officer               7\n",
       "Justifiable Homicide                  1\n",
       "Looting                               1\n",
       "Name: Crime, dtype: int64"
      ]
     },
     "execution_count": 160,
     "metadata": {},
     "output_type": "execute_result"
    }
   ],
   "source": [
    "mn_backup_df = mn_df\n",
    "mn_df.Crime.value_counts()"
   ]
  },
  {
   "cell_type": "code",
   "execution_count": 161,
   "metadata": {},
   "outputs": [
    {
     "data": {
      "text/plain": [
       "2017    22085\n",
       "2012    21934\n",
       "2013    21857\n",
       "2011    21627\n",
       "2014    21532\n",
       "2010    20339\n",
       "2015    19998\n",
       "2018     7350\n",
       "Name: Year, dtype: int64"
      ]
     },
     "execution_count": 161,
     "metadata": {},
     "output_type": "execute_result"
    }
   ],
   "source": [
    "mn_combined_crime = mn_df.replace({\n",
    "    \"Other Theft\" : \"Theft\",\n",
    "    \"Theft From Motr Vehc\" : \"Theft\",\n",
    "    \"Theft From Person\" : \"Theft\",\n",
    "    \"Bike Theft\" : \"Theft\",\n",
    "    \"Shoplifting\" : \"Theft\",\n",
    "    \"Other Vehicle Theft\" : \"Theft\",\n",
    "    \"Theft By Swindle\" : \"Theft\",\n",
    "    \"Pocket-picking\" : \"Theft\",\n",
    "    \"On-line Theft\" : \"Theft\",\n",
    "    \"Theft From Building\" : \"Theft\",\n",
    "    \"Theft-motr Veh Parts\" : \"Theft\",\n",
    "    \"Scrapping-Recycling Theft\" : \"Theft\",\n",
    "    \"Theft/coinop Device\" : \"Theft\",\n",
    "    \"Theft By Computer\" : \"Theft\",\n",
    "     \"Gas Station Driv-off\" : \"Theft\",\n",
    "    \"Burglary Of Business\" : \"Burglary\",\n",
    "    \"Burglary Of Dwelling\" : \"Burglary\",\n",
    "    \"Robbery Of Business\" : \"Burglary\",\n",
    "    \"Robbery-Pedestrian\" : \"Robbery\",\n",
    "    \"Robbery-Commercial\" : \"Robbery\",\n",
    "    \"Robbery Of Person\" : \"Robbery\",\n",
    "    \"Robbery Per Agg\" : \"Aggrivated Assault\",\n",
    "    \"Aslt-sgnfcnt Bdly Hm\": \"Aggrivated Assault\",\n",
    "    \"Aslt-great Bodily Hm\" : \"Aggrivated Assault\",\n",
    "    \"Asslt W/dngrs Weapon\" : \"Aggrivated Assault\",\n",
    "    \"Aslt-police/emerg P\" : \"Aggrivated Assault\",\n",
    "    \"Motor Vehicle Theft\" : \"Grand Theft Auto\",\n",
    "    \"Crim Sex Cond-rape\" : \"Sex Offense\",\n",
    "    \"Domestic Assault/Strangulation\" : \"Domestic Assault\",\n",
    "    \"1st Deg Domes Asslt\" : \"Domestic Assault\",\n",
    "    \"2nd Deg Domes Aslt\" : \"Domestic Assault\",\n",
    "    \"3rd Deg Domes Aslt\" : \"Domestic Assault\", \n",
    "    \"Murder (general)\" : \"Homicide\"    \n",
    "})\n",
    "mn_combined_crime.Year.value_counts()"
   ]
  },
  {
   "cell_type": "code",
   "execution_count": 162,
   "metadata": {},
   "outputs": [
    {
     "data": {
      "text/plain": [
       "2017    22085\n",
       "2012    21934\n",
       "2013    21857\n",
       "2011    21627\n",
       "2014    21532\n",
       "2010    20339\n",
       "2015    19998\n",
       "2018     7350\n",
       "Name: Year, dtype: int64"
      ]
     },
     "execution_count": 162,
     "metadata": {},
     "output_type": "execute_result"
    }
   ],
   "source": [
    "mn_df = mn_combined_crime\n",
    "mn_short_df = mn_df.loc[:,[\"Crime\", \"Year\"]]\n",
    "mn_short_df.Year.value_counts()"
   ]
  },
  {
   "cell_type": "code",
   "execution_count": 163,
   "metadata": {
    "scrolled": false
   },
   "outputs": [
    {
     "data": {
      "text/html": [
       "<style  type=\"text/css\" >\n",
       "</style><table id=\"T_508c6b76_d3d3_11e9_b703_7c7635bc15e1\" ><thead>    <tr>        <th class=\"blank level0\" ></th>        <th class=\"col_heading level0 col0\" >Theft</th>        <th class=\"col_heading level0 col1\" >Burglary</th>        <th class=\"col_heading level0 col2\" >Grand Theft Auto</th>        <th class=\"col_heading level0 col3\" >Robbery</th>        <th class=\"col_heading level0 col4\" >Aggrivated Assault</th>        <th class=\"col_heading level0 col5\" >Homicide</th>        <th class=\"col_heading level0 col6\" >Domestic Assault</th>        <th class=\"col_heading level0 col7\" >Sex Offense</th>        <th class=\"col_heading level0 col8\" >Arson</th>    </tr>    <tr>        <th class=\"index_name level0\" >Year</th>        <th class=\"blank\" ></th>        <th class=\"blank\" ></th>        <th class=\"blank\" ></th>        <th class=\"blank\" ></th>        <th class=\"blank\" ></th>        <th class=\"blank\" ></th>        <th class=\"blank\" ></th>        <th class=\"blank\" ></th>        <th class=\"blank\" ></th>    </tr></thead><tbody>\n",
       "                <tr>\n",
       "                        <th id=\"T_508c6b76_d3d3_11e9_b703_7c7635bc15e1level0_row0\" class=\"row_heading level0 row0\" >2010</th>\n",
       "                        <td id=\"T_508c6b76_d3d3_11e9_b703_7c7635bc15e1row0_col0\" class=\"data row0 col0\" >10,582</td>\n",
       "                        <td id=\"T_508c6b76_d3d3_11e9_b703_7c7635bc15e1row0_col1\" class=\"data row0 col1\" >4,803</td>\n",
       "                        <td id=\"T_508c6b76_d3d3_11e9_b703_7c7635bc15e1row0_col2\" class=\"data row0 col2\" >1,773</td>\n",
       "                        <td id=\"T_508c6b76_d3d3_11e9_b703_7c7635bc15e1row0_col3\" class=\"data row0 col3\" >674</td>\n",
       "                        <td id=\"T_508c6b76_d3d3_11e9_b703_7c7635bc15e1row0_col4\" class=\"data row0 col4\" >1,598</td>\n",
       "                        <td id=\"T_508c6b76_d3d3_11e9_b703_7c7635bc15e1row0_col5\" class=\"data row0 col5\" >24</td>\n",
       "                        <td id=\"T_508c6b76_d3d3_11e9_b703_7c7635bc15e1row0_col6\" class=\"data row0 col6\" >498</td>\n",
       "                        <td id=\"T_508c6b76_d3d3_11e9_b703_7c7635bc15e1row0_col7\" class=\"data row0 col7\" >273</td>\n",
       "                        <td id=\"T_508c6b76_d3d3_11e9_b703_7c7635bc15e1row0_col8\" class=\"data row0 col8\" >113</td>\n",
       "            </tr>\n",
       "            <tr>\n",
       "                        <th id=\"T_508c6b76_d3d3_11e9_b703_7c7635bc15e1level0_row1\" class=\"row_heading level0 row1\" >2011</th>\n",
       "                        <td id=\"T_508c6b76_d3d3_11e9_b703_7c7635bc15e1row1_col0\" class=\"data row1 col0\" >11,581</td>\n",
       "                        <td id=\"T_508c6b76_d3d3_11e9_b703_7c7635bc15e1row1_col1\" class=\"data row1 col1\" >5,147</td>\n",
       "                        <td id=\"T_508c6b76_d3d3_11e9_b703_7c7635bc15e1row1_col2\" class=\"data row1 col2\" >1,695</td>\n",
       "                        <td id=\"T_508c6b76_d3d3_11e9_b703_7c7635bc15e1row1_col3\" class=\"data row1 col3\" >732</td>\n",
       "                        <td id=\"T_508c6b76_d3d3_11e9_b703_7c7635bc15e1row1_col4\" class=\"data row1 col4\" >1,530</td>\n",
       "                        <td id=\"T_508c6b76_d3d3_11e9_b703_7c7635bc15e1row1_col5\" class=\"data row1 col5\" >22</td>\n",
       "                        <td id=\"T_508c6b76_d3d3_11e9_b703_7c7635bc15e1row1_col6\" class=\"data row1 col6\" >547</td>\n",
       "                        <td id=\"T_508c6b76_d3d3_11e9_b703_7c7635bc15e1row1_col7\" class=\"data row1 col7\" >241</td>\n",
       "                        <td id=\"T_508c6b76_d3d3_11e9_b703_7c7635bc15e1row1_col8\" class=\"data row1 col8\" >132</td>\n",
       "            </tr>\n",
       "            <tr>\n",
       "                        <th id=\"T_508c6b76_d3d3_11e9_b703_7c7635bc15e1level0_row2\" class=\"row_heading level0 row2\" >2012</th>\n",
       "                        <td id=\"T_508c6b76_d3d3_11e9_b703_7c7635bc15e1row2_col0\" class=\"data row2 col0\" >12,053</td>\n",
       "                        <td id=\"T_508c6b76_d3d3_11e9_b703_7c7635bc15e1row2_col1\" class=\"data row2 col1\" >4,733</td>\n",
       "                        <td id=\"T_508c6b76_d3d3_11e9_b703_7c7635bc15e1row2_col2\" class=\"data row2 col2\" >1,747</td>\n",
       "                        <td id=\"T_508c6b76_d3d3_11e9_b703_7c7635bc15e1row2_col3\" class=\"data row2 col3\" >808</td>\n",
       "                        <td id=\"T_508c6b76_d3d3_11e9_b703_7c7635bc15e1row2_col4\" class=\"data row2 col4\" >1,658</td>\n",
       "                        <td id=\"T_508c6b76_d3d3_11e9_b703_7c7635bc15e1row2_col5\" class=\"data row2 col5\" >21</td>\n",
       "                        <td id=\"T_508c6b76_d3d3_11e9_b703_7c7635bc15e1row2_col6\" class=\"data row2 col6\" >520</td>\n",
       "                        <td id=\"T_508c6b76_d3d3_11e9_b703_7c7635bc15e1row2_col7\" class=\"data row2 col7\" >283</td>\n",
       "                        <td id=\"T_508c6b76_d3d3_11e9_b703_7c7635bc15e1row2_col8\" class=\"data row2 col8\" >111</td>\n",
       "            </tr>\n",
       "            <tr>\n",
       "                        <th id=\"T_508c6b76_d3d3_11e9_b703_7c7635bc15e1level0_row3\" class=\"row_heading level0 row3\" >2013</th>\n",
       "                        <td id=\"T_508c6b76_d3d3_11e9_b703_7c7635bc15e1row3_col0\" class=\"data row3 col0\" >12,295</td>\n",
       "                        <td id=\"T_508c6b76_d3d3_11e9_b703_7c7635bc15e1row3_col1\" class=\"data row3 col1\" >4,619</td>\n",
       "                        <td id=\"T_508c6b76_d3d3_11e9_b703_7c7635bc15e1row3_col2\" class=\"data row3 col2\" >1,489</td>\n",
       "                        <td id=\"T_508c6b76_d3d3_11e9_b703_7c7635bc15e1row3_col3\" class=\"data row3 col3\" >773</td>\n",
       "                        <td id=\"T_508c6b76_d3d3_11e9_b703_7c7635bc15e1row3_col4\" class=\"data row3 col4\" >1,704</td>\n",
       "                        <td id=\"T_508c6b76_d3d3_11e9_b703_7c7635bc15e1row3_col5\" class=\"data row3 col5\" >29</td>\n",
       "                        <td id=\"T_508c6b76_d3d3_11e9_b703_7c7635bc15e1row3_col6\" class=\"data row3 col6\" >570</td>\n",
       "                        <td id=\"T_508c6b76_d3d3_11e9_b703_7c7635bc15e1row3_col7\" class=\"data row3 col7\" >260</td>\n",
       "                        <td id=\"T_508c6b76_d3d3_11e9_b703_7c7635bc15e1row3_col8\" class=\"data row3 col8\" >115</td>\n",
       "            </tr>\n",
       "            <tr>\n",
       "                        <th id=\"T_508c6b76_d3d3_11e9_b703_7c7635bc15e1level0_row4\" class=\"row_heading level0 row4\" >2014</th>\n",
       "                        <td id=\"T_508c6b76_d3d3_11e9_b703_7c7635bc15e1row4_col0\" class=\"data row4 col0\" >12,526</td>\n",
       "                        <td id=\"T_508c6b76_d3d3_11e9_b703_7c7635bc15e1row4_col1\" class=\"data row4 col1\" >4,146</td>\n",
       "                        <td id=\"T_508c6b76_d3d3_11e9_b703_7c7635bc15e1row4_col2\" class=\"data row4 col2\" >1,417</td>\n",
       "                        <td id=\"T_508c6b76_d3d3_11e9_b703_7c7635bc15e1row4_col3\" class=\"data row4 col3\" >683</td>\n",
       "                        <td id=\"T_508c6b76_d3d3_11e9_b703_7c7635bc15e1row4_col4\" class=\"data row4 col4\" >1,814</td>\n",
       "                        <td id=\"T_508c6b76_d3d3_11e9_b703_7c7635bc15e1row4_col5\" class=\"data row4 col5\" >26</td>\n",
       "                        <td id=\"T_508c6b76_d3d3_11e9_b703_7c7635bc15e1row4_col6\" class=\"data row4 col6\" >547</td>\n",
       "                        <td id=\"T_508c6b76_d3d3_11e9_b703_7c7635bc15e1row4_col7\" class=\"data row4 col7\" >263</td>\n",
       "                        <td id=\"T_508c6b76_d3d3_11e9_b703_7c7635bc15e1row4_col8\" class=\"data row4 col8\" >109</td>\n",
       "            </tr>\n",
       "            <tr>\n",
       "                        <th id=\"T_508c6b76_d3d3_11e9_b703_7c7635bc15e1level0_row5\" class=\"row_heading level0 row5\" >2015</th>\n",
       "                        <td id=\"T_508c6b76_d3d3_11e9_b703_7c7635bc15e1row5_col0\" class=\"data row5 col0\" >11,200</td>\n",
       "                        <td id=\"T_508c6b76_d3d3_11e9_b703_7c7635bc15e1row5_col1\" class=\"data row5 col1\" >3,588</td>\n",
       "                        <td id=\"T_508c6b76_d3d3_11e9_b703_7c7635bc15e1row5_col2\" class=\"data row5 col2\" >1,579</td>\n",
       "                        <td id=\"T_508c6b76_d3d3_11e9_b703_7c7635bc15e1row5_col3\" class=\"data row5 col3\" >737</td>\n",
       "                        <td id=\"T_508c6b76_d3d3_11e9_b703_7c7635bc15e1row5_col4\" class=\"data row5 col4\" >1,894</td>\n",
       "                        <td id=\"T_508c6b76_d3d3_11e9_b703_7c7635bc15e1row5_col5\" class=\"data row5 col5\" >29</td>\n",
       "                        <td id=\"T_508c6b76_d3d3_11e9_b703_7c7635bc15e1row5_col6\" class=\"data row5 col6\" >578</td>\n",
       "                        <td id=\"T_508c6b76_d3d3_11e9_b703_7c7635bc15e1row5_col7\" class=\"data row5 col7\" >285</td>\n",
       "                        <td id=\"T_508c6b76_d3d3_11e9_b703_7c7635bc15e1row5_col8\" class=\"data row5 col8\" >105</td>\n",
       "            </tr>\n",
       "            <tr>\n",
       "                        <th id=\"T_508c6b76_d3d3_11e9_b703_7c7635bc15e1level0_row6\" class=\"row_heading level0 row6\" >2017</th>\n",
       "                        <td id=\"T_508c6b76_d3d3_11e9_b703_7c7635bc15e1row6_col0\" class=\"data row6 col0\" >12,264</td>\n",
       "                        <td id=\"T_508c6b76_d3d3_11e9_b703_7c7635bc15e1row6_col1\" class=\"data row6 col1\" >3,845</td>\n",
       "                        <td id=\"T_508c6b76_d3d3_11e9_b703_7c7635bc15e1row6_col2\" class=\"data row6 col2\" >2,127</td>\n",
       "                        <td id=\"T_508c6b76_d3d3_11e9_b703_7c7635bc15e1row6_col3\" class=\"data row6 col3\" >688</td>\n",
       "                        <td id=\"T_508c6b76_d3d3_11e9_b703_7c7635bc15e1row6_col4\" class=\"data row6 col4\" >1,996</td>\n",
       "                        <td id=\"T_508c6b76_d3d3_11e9_b703_7c7635bc15e1row6_col5\" class=\"data row6 col5\" >24</td>\n",
       "                        <td id=\"T_508c6b76_d3d3_11e9_b703_7c7635bc15e1row6_col6\" class=\"data row6 col6\" >687</td>\n",
       "                        <td id=\"T_508c6b76_d3d3_11e9_b703_7c7635bc15e1row6_col7\" class=\"data row6 col7\" >342</td>\n",
       "                        <td id=\"T_508c6b76_d3d3_11e9_b703_7c7635bc15e1row6_col8\" class=\"data row6 col8\" >112</td>\n",
       "            </tr>\n",
       "            <tr>\n",
       "                        <th id=\"T_508c6b76_d3d3_11e9_b703_7c7635bc15e1level0_row7\" class=\"row_heading level0 row7\" >2018</th>\n",
       "                        <td id=\"T_508c6b76_d3d3_11e9_b703_7c7635bc15e1row7_col0\" class=\"data row7 col0\" >4,155</td>\n",
       "                        <td id=\"T_508c6b76_d3d3_11e9_b703_7c7635bc15e1row7_col1\" class=\"data row7 col1\" >1,087</td>\n",
       "                        <td id=\"T_508c6b76_d3d3_11e9_b703_7c7635bc15e1row7_col2\" class=\"data row7 col2\" >876</td>\n",
       "                        <td id=\"T_508c6b76_d3d3_11e9_b703_7c7635bc15e1row7_col3\" class=\"data row7 col3\" >159</td>\n",
       "                        <td id=\"T_508c6b76_d3d3_11e9_b703_7c7635bc15e1row7_col4\" class=\"data row7 col4\" >645</td>\n",
       "                        <td id=\"T_508c6b76_d3d3_11e9_b703_7c7635bc15e1row7_col5\" class=\"data row7 col5\" >9</td>\n",
       "                        <td id=\"T_508c6b76_d3d3_11e9_b703_7c7635bc15e1row7_col6\" class=\"data row7 col6\" >263</td>\n",
       "                        <td id=\"T_508c6b76_d3d3_11e9_b703_7c7635bc15e1row7_col7\" class=\"data row7 col7\" >132</td>\n",
       "                        <td id=\"T_508c6b76_d3d3_11e9_b703_7c7635bc15e1row7_col8\" class=\"data row7 col8\" >23</td>\n",
       "            </tr>\n",
       "    </tbody></table>"
      ],
      "text/plain": [
       "<pandas.io.formats.style.Styler at 0x19a895cd208>"
      ]
     },
     "execution_count": 163,
     "metadata": {},
     "output_type": "execute_result"
    }
   ],
   "source": [
    "mn_years = mn_short_df['Year'].unique()\n",
    "mn_theft = mn_short_df[mn_short_df['Crime'] == 'Theft'].groupby('Year')['Crime'].count()\n",
    "mn_burglary = mn_short_df[mn_short_df['Crime'] == 'Burglary'].groupby('Year')['Crime'].count()\n",
    "mn_auto = mn_short_df[mn_short_df['Crime'] == 'Grand Theft Auto'].groupby('Year')['Crime'].count()\n",
    "mn_robbery = mn_short_df[mn_short_df['Crime'] == 'Robbery'].groupby('Year')['Crime'].count()\n",
    "mn_aassault = mn_short_df[mn_short_df['Crime'] == 'Aggrivated Assault'].groupby('Year')['Crime'].count()\n",
    "mn_homicide = mn_short_df[mn_short_df['Crime'] == 'Homicide'].groupby('Year')['Crime'].count()\n",
    "mn_domestic = mn_short_df[mn_short_df['Crime'] == 'Domestic Assault'].groupby('Year')['Crime'].count()\n",
    "mn_sex = mn_short_df[mn_short_df['Crime'] == 'Sex Offense'].groupby('Year')['Crime'].count()\n",
    "mn_arson = mn_short_df[mn_short_df['Crime'] == 'Arson'].groupby('Year')['Crime'].count()\n",
    "\n",
    "mn_crime_df = pd.DataFrame({\n",
    "    \"Theft\": mn_theft,\n",
    "    \"Burglary\": mn_burglary,\n",
    "    \"Grand Theft Auto\": mn_auto,\n",
    "    \"Robbery\": mn_robbery,\n",
    "    \"Aggrivated Assault\": mn_aassault,\n",
    "    \"Homicide\": mn_homicide,\n",
    "    \"Domestic Assault\": mn_domestic,\n",
    "    \"Sex Offense\" : mn_sex,\n",
    "    \"Arson\" : mn_arson\n",
    "})\n",
    "\n",
    "mn_crime_df.fillna(0).style.format(\"{:,}\")"
   ]
  },
  {
   "cell_type": "code",
   "execution_count": 165,
   "metadata": {},
   "outputs": [
    {
     "data": {
      "text/plain": [
       "array(['2010', '2011', '2012', '2013', '2014', '2015', '2017', '2018'],\n",
       "      dtype=object)"
      ]
     },
     "execution_count": 165,
     "metadata": {},
     "output_type": "execute_result"
    }
   ],
   "source": [
    "# x_axis = range(2010, 2019)\n",
    "# theft_incidents = atl_theft \n",
    "# burglary_incidents = atl_burglary\n",
    "# auto_incidents = atl_auto\n",
    "# robbery_incidents = atl_robbery\n",
    "# assault_incidents = atl_aassault\n",
    "# homicide_incidents = atl_homicide\n",
    "mn_years"
   ]
  },
  {
   "cell_type": "code",
   "execution_count": 166,
   "metadata": {},
   "outputs": [
    {
     "data": {
      "text/plain": [
       "<matplotlib.legend.Legend at 0x19a808fb160>"
      ]
     },
     "execution_count": 166,
     "metadata": {},
     "output_type": "execute_result"
    },
    {
     "data": {
      "image/png": "[encoded data removed]",
      "text/plain": [
       "<Figure size 432x288 with 1 Axes>"
      ]
     },
     "metadata": {
      "needs_background": "light"
     },
     "output_type": "display_data"
    }
   ],
   "source": [
    "# Minneapolis by year graph\n",
    "x_axis = mn_years\n",
    "theft, = plt.plot(x_axis, mn_theft, color=\"red\", label=\"Theft\")\n",
    "burglary, = plt.plot(x_axis, mn_burglary, color=\"blue\", label=\"Burglary\")\n",
    "auto, = plt.plot(x_axis, mn_auto, color=\"green\", label=\"Grand Theft Auto\")\n",
    "robbery, = plt.plot(x_axis, mn_robbery, color=\"purple\", label=\"Robbery\")\n",
    "assault, = plt.plot(x_axis, mn_aassault, color=\"yellow\", label=\"Aggrivated Assault\")\n",
    "homicide, = plt.plot(x_axis, mn_homicide, color=\"magenta\", label=\"Homicide\")\n",
    "domestic, = plt.plot(x_axis, mn_domestic, color=\"magenta\", label=\"Domestic Assault\")\n",
    "sex, = plt.plot(x_axis, mn_sex, color=\"magenta\", label=\"Sex Offense\")\n",
    "arson, = plt.plot(x_axis, mn_arson, color=\"magenta\", label=\"Arson\")\n",
    "\n",
    "#Add labels to graph\n",
    "plt.title(\"Minneapolis Crime Rates | 2010 - 2018\")\n",
    "plt.xlabel(\"Years\")\n",
    "plt.ylabel(\"Number of Incidents\")\n",
    "\n",
    "plt.legend(handles=[theft, burglary, auto, robbery, assault, homicide], loc=\"best\")"
   ]
  },
  {
   "cell_type": "code",
   "execution_count": null,
   "metadata": {},
   "outputs": [],
   "source": []
  },
  {
   "cell_type": "code",
   "execution_count": null,
   "metadata": {},
   "outputs": [],
   "source": []
  }
 ],
 "metadata": {
  "kernelspec": {
   "display_name": "Python 3",
   "language": "python",
   "name": "python3"
  },
  "language_info": {
   "codemirror_mode": {
    "name": "ipython",
    "version": 3
   },
   "file_extension": ".py",
   "mimetype": "text/x-python",
   "name": "python",
   "nbconvert_exporter": "python",
   "pygments_lexer": "ipython3",
   "version": "3.7.3"
  }
 },
 "nbformat": 4,
 "nbformat_minor": 2
}
