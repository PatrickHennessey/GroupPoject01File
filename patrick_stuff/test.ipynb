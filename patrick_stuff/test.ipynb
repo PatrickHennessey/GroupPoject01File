{
 "cells": [
  {
   "cell_type": "code",
   "execution_count": null,
   "metadata": {},
   "outputs": [],
   "source": [
    "import os\n",
    "import json\n",
    "import csv\n",
    "import glob\n",
    "import datetime\n",
    "import requests\n",
    "import numpy as np\n",
    "import pandas as pd\n",
    "from os import listdir\n",
    "import matplotlib.pyplot as plt"
   ]
  },
  {
   "cell_type": "code",
   "execution_count": null,
   "metadata": {},
   "outputs": [],
   "source": [
    "# Output Files (CSV)\n",
    "atl_out = \"DataFiles/minneaplis_sorted.csv\""
   ]
  },
  {
   "cell_type": "code",
   "execution_count": null,
   "metadata": {},
   "outputs": [],
   "source": [
    "### Atlanta Work ###"
   ]
  },
  {
   "cell_type": "code",
   "execution_count": 82,
   "metadata": {},
   "outputs": [
    {
     "name": "stderr",
     "output_type": "stream",
     "text": [
      "C:\\Users\\patri\\Anaconda3\\lib\\site-packages\\ipykernel_launcher.py:6: DtypeWarning: Columns (11) have mixed types. Specify dtype option on import or set low_memory=False.\n",
      "  \n"
     ]
    },
    {
     "data": {
      "text/plain": [
       "Larceny-From Vehicle    101948\n",
       "Larceny-Non Vehicle      79631\n",
       "Burglary-Residence       48927\n",
       "Auto Theft               46078\n",
       "Agg Assault              24374\n",
       "Robbery-Pedestrian       16927\n",
       "Burglary-Nonres          10697\n",
       "Robbery-Commercial        2263\n",
       "Robbery-Residence         2194\n",
       "Homicide                   947\n",
       "Manslaughter                17\n",
       "Name: Crime, dtype: int64"
      ]
     },
     "execution_count": 82,
     "metadata": {},
     "output_type": "execute_result"
    }
   ],
   "source": [
    "# Combine the multiple file for Atlanta into one CSV\n",
    "path = r'C:\\Users\\patri\\Google Drive\\Group Project\\GroupPoject01Files\\patrick_stuff\\atl'                     # use your path\n",
    "# advisable to use os.path.join as this makes concatenation OS independent\n",
    "all_files = glob.glob(os.path.join(path, \"*.csv\"))\n",
    "df_from_each_file = (pd.read_csv(f) for f in all_files)\n",
    "atl_complete_df = pd.concat(df_from_each_file, ignore_index=True, sort=True)\n",
    "\n",
    "# Changing time format and capitalization of UCR\n",
    "atl_complete_df[['Year', 'Month', 'Day']] = atl_complete_df['Report Date'].astype(str).str.split(\"-\",expand=True,)\n",
    "atl_complete_df = atl_complete_df.apply(lambda x: x.str.title() if x.dtype == \"object\" else x) \n",
    "\n",
    "# Shape the combined CSV into a more manageable DataFrame\n",
    "atl_sorted_df = atl_complete_df.loc[:, [\"UCR Literal\", \"UCR #\", \"Month\", \"Day\", \"Year\", \"Occur Time\", \"Latitude\", \"Longitude\"]]\n",
    "\n",
    "# Rename a few things\n",
    "atl_renamed_df = atl_sorted_df.rename(columns={\"UCR Literal\" : \"Crime\", \"UCR #\" : \"UCR Code\"})\n",
    "atl_renamed_df.Crime.value_counts()"
   ]
  },
  {
   "cell_type": "code",
   "execution_count": 81,
   "metadata": {},
   "outputs": [
    {
     "data": {
      "text/plain": [
       "Larceny-From Vehicle    5881\n",
       "Larceny-Non Vehicle     4156\n",
       "Auto Theft              2001\n",
       "Burglary-Residence      1420\n",
       "Agg Assault             1365\n",
       "Burglary-Nonres          517\n",
       "Robbery-Pedestrian       492\n",
       "Robbery-Commercial       107\n",
       "Robbery-Residence         90\n",
       "Homicide                  69\n",
       "Manslaughter               1\n",
       "Name: Crime, dtype: int64"
      ]
     },
     "execution_count": 81,
     "metadata": {},
     "output_type": "execute_result"
    }
   ],
   "source": [
    "atl_renamed_df = atl_renamed_df.dropna(how='any')\n",
    "atl_renamed_df.Crime.value_counts()"
   ]
  },
  {
   "cell_type": "code",
   "execution_count": null,
   "metadata": {},
   "outputs": [],
   "source": [
    "atl_df = pd.read_csv(\"DataFiles/atlanta_combined.csv\")\n",
    "mn_df = pd.read_csv(\"DataFiles/minneapolis_sorted.date.csv\")"
   ]
  },
  {
   "cell_type": "code",
   "execution_count": null,
   "metadata": {},
   "outputs": [],
   "source": [
    "atl_2017_df = atl_df.loc[(atl_df.Year == 2017)]\n",
    "atl_2018_df = atl_df.loc[(atl_df.Year == 2018)]\n",
    "atl_2019_df = atl_df.loc[(atl_df.Year == 2019)]\n",
    "atl_2019_df.head()"
   ]
  },
  {
   "cell_type": "code",
   "execution_count": null,
   "metadata": {},
   "outputs": [],
   "source": [
    "atl_2018_df[\"UCR Literal\"].value_counts()"
   ]
  },
  {
   "cell_type": "code",
   "execution_count": null,
   "metadata": {},
   "outputs": [],
   "source": []
  }
 ],
 "metadata": {
  "kernelspec": {
   "display_name": "Python 3",
   "language": "python",
   "name": "python3"
  },
  "language_info": {
   "codemirror_mode": {
    "name": "ipython",
    "version": 3
   },
   "file_extension": ".py",
   "mimetype": "text/x-python",
   "name": "python",
   "nbconvert_exporter": "python",
   "pygments_lexer": "ipython3",
   "version": "3.7.3"
  }
 },
 "nbformat": 4,
 "nbformat_minor": 2
}
